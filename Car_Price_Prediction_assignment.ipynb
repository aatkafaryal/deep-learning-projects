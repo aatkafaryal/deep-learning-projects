{
  "nbformat": 4,
  "nbformat_minor": 0,
  "metadata": {
    "kernelspec": {
      "display_name": "Python 3",
      "language": "python",
      "name": "python3"
    },
    "language_info": {
      "codemirror_mode": {
        "name": "ipython",
        "version": 3
      },
      "file_extension": ".py",
      "mimetype": "text/x-python",
      "name": "python",
      "nbconvert_exporter": "python",
      "pygments_lexer": "ipython3",
      "version": "3.8.5"
    },
    "colab": {
      "name": "Car Price Prediction assignment.ipynb",
      "provenance": [],
      "collapsed_sections": [],
      "toc_visible": true
    }
  },
  "cells": [
    {
      "cell_type": "markdown",
      "metadata": {
        "id": "2d4j25Z6-1jk"
      },
      "source": [
        "# Car Price Prediction::"
      ]
    },
    {
      "cell_type": "code",
      "metadata": {
        "id": "TGiYEZPaPNx1",
        "colab": {
          "base_uri": "https://localhost:8080/"
        },
        "outputId": "ea453829-cfc8-433a-c2c1-ec25ed77ac78"
      },
      "source": [
        "from google.colab import drive\n",
        "drive.mount('/content/drive')"
      ],
      "execution_count": null,
      "outputs": [
        {
          "output_type": "stream",
          "text": [
            "Mounted at /content/drive\n"
          ],
          "name": "stdout"
        }
      ]
    },
    {
      "cell_type": "markdown",
      "metadata": {
        "id": "tX0TZWRp-1jt"
      },
      "source": [
        "Download dataset from this link:\n",
        "\n",
        "https://www.kaggle.com/hellbuoy/car-price-prediction"
      ]
    },
    {
      "cell_type": "markdown",
      "metadata": {
        "id": "Esd3dCsR-1ju"
      },
      "source": [
        "# Problem Statement::"
      ]
    },
    {
      "cell_type": "markdown",
      "metadata": {
        "id": "LXG1LYYw-1ju"
      },
      "source": [
        "A Chinese automobile company Geely Auto aspires to enter the US market by setting up their manufacturing unit there and producing cars locally to give competition to their US and European counterparts.\n",
        "\n",
        "They have contracted an automobile consulting company to understand the factors on which the pricing of cars depends. Specifically, they want to understand the factors affecting the pricing of cars in the American market, since those may be very different from the Chinese market. The company wants to know:\n",
        "\n",
        "Which variables are significant in predicting the price of a car\n",
        "How well those variables describe the price of a car\n",
        "Based on various market surveys, the consulting firm has gathered a large data set of different types of cars across the America market.\n",
        "\n",
        "# task::\n",
        "We are required to model the price of cars with the available independent variables. It will be used by the management to understand how exactly the prices vary with the independent variables. They can accordingly manipulate the design of the cars, the business strategy etc. to meet certain price levels. Further, the model will be a good way for management to understand the pricing dynamics of a new market."
      ]
    },
    {
      "cell_type": "markdown",
      "metadata": {
        "id": "zc_ixTul-1jv"
      },
      "source": [
        "# WORKFLOW ::"
      ]
    },
    {
      "cell_type": "markdown",
      "metadata": {
        "id": "vL7Xgr5jWFI5"
      },
      "source": [
        "# New Section"
      ]
    },
    {
      "cell_type": "markdown",
      "metadata": {
        "id": "Wv2_k0DN-1jw"
      },
      "source": [
        "1.Load Data\n",
        "\n",
        "2.Check Missing Values ( If Exist ; Fill each record with mean of its feature )\n",
        "\n",
        "3.Split into 50% Training(Samples,Labels) , 30% Test(Samples,Labels) and 20% Validation Data(Samples,Labels).\n",
        "\n",
        "4.Model : input Layer (No. of features ), 3 hidden layers including 10,8,6 unit & Output Layer with activation function relu/tanh (check by experiment).\n",
        "\n",
        "5.Compilation Step (Note : Its a Regression problem , select loss , metrics according to it)\n",
        "6.Train the Model with Epochs (100) and validate it\n",
        "\n",
        "7.If the model gets overfit tune your model by changing the units , No. of layers , activation function , epochs , add dropout layer or add Regularizer according to the need .\n",
        "\n",
        "8.Evaluation Step\n",
        "\n",
        "9.Prediction"
      ]
    },
    {
      "cell_type": "code",
      "metadata": {
        "id": "9unIBio8-1jw"
      },
      "source": [
        "import pandas as pd\n",
        "import numpy as np\n",
        "import tensorflow"
      ],
      "execution_count": null,
      "outputs": []
    },
    {
      "cell_type": "code",
      "metadata": {
        "id": "2T_RpCcc-1jx"
      },
      "source": [
        "df1 = pd.read_csv(\"CarPrice_Assignment.csv\")"
      ],
      "execution_count": null,
      "outputs": []
    },
    {
      "cell_type": "markdown",
      "metadata": {
        "id": "WM_02X6BV8OK"
      },
      "source": [
        ""
      ]
    },
    {
      "cell_type": "code",
      "metadata": {
        "id": "eUqKYGl3-1jx",
        "colab": {
          "base_uri": "https://localhost:8080/"
        },
        "outputId": "cf267ed4-67ad-4f17-abe6-352b8ba90b80"
      },
      "source": [
        "df1.shape"
      ],
      "execution_count": null,
      "outputs": [
        {
          "output_type": "execute_result",
          "data": {
            "text/plain": [
              "(205, 26)"
            ]
          },
          "metadata": {
            "tags": []
          },
          "execution_count": 91
        }
      ]
    },
    {
      "cell_type": "code",
      "metadata": {
        "colab": {
          "base_uri": "https://localhost:8080/",
          "height": 267
        },
        "id": "tYQMG60zVs2v",
        "outputId": "bd83dcd5-eaa7-43cb-db25-2595fc6a7c33"
      },
      "source": [
        "df1.head()"
      ],
      "execution_count": null,
      "outputs": [
        {
          "output_type": "execute_result",
          "data": {
            "text/html": [
              "<div>\n",
              "<style scoped>\n",
              "    .dataframe tbody tr th:only-of-type {\n",
              "        vertical-align: middle;\n",
              "    }\n",
              "\n",
              "    .dataframe tbody tr th {\n",
              "        vertical-align: top;\n",
              "    }\n",
              "\n",
              "    .dataframe thead th {\n",
              "        text-align: right;\n",
              "    }\n",
              "</style>\n",
              "<table border=\"1\" class=\"dataframe\">\n",
              "  <thead>\n",
              "    <tr style=\"text-align: right;\">\n",
              "      <th></th>\n",
              "      <th>car_ID</th>\n",
              "      <th>symboling</th>\n",
              "      <th>CarName</th>\n",
              "      <th>fueltype</th>\n",
              "      <th>aspiration</th>\n",
              "      <th>doornumber</th>\n",
              "      <th>carbody</th>\n",
              "      <th>drivewheel</th>\n",
              "      <th>enginelocation</th>\n",
              "      <th>wheelbase</th>\n",
              "      <th>carlength</th>\n",
              "      <th>carwidth</th>\n",
              "      <th>carheight</th>\n",
              "      <th>curbweight</th>\n",
              "      <th>enginetype</th>\n",
              "      <th>cylindernumber</th>\n",
              "      <th>enginesize</th>\n",
              "      <th>fuelsystem</th>\n",
              "      <th>boreratio</th>\n",
              "      <th>stroke</th>\n",
              "      <th>compressionratio</th>\n",
              "      <th>horsepower</th>\n",
              "      <th>peakrpm</th>\n",
              "      <th>citympg</th>\n",
              "      <th>highwaympg</th>\n",
              "      <th>price</th>\n",
              "    </tr>\n",
              "  </thead>\n",
              "  <tbody>\n",
              "    <tr>\n",
              "      <th>0</th>\n",
              "      <td>1</td>\n",
              "      <td>3</td>\n",
              "      <td>alfa-romero giulia</td>\n",
              "      <td>gas</td>\n",
              "      <td>std</td>\n",
              "      <td>two</td>\n",
              "      <td>convertible</td>\n",
              "      <td>rwd</td>\n",
              "      <td>front</td>\n",
              "      <td>88.6</td>\n",
              "      <td>168.8</td>\n",
              "      <td>64.1</td>\n",
              "      <td>48.8</td>\n",
              "      <td>2548</td>\n",
              "      <td>dohc</td>\n",
              "      <td>four</td>\n",
              "      <td>130</td>\n",
              "      <td>mpfi</td>\n",
              "      <td>3.47</td>\n",
              "      <td>2.68</td>\n",
              "      <td>9.0</td>\n",
              "      <td>111</td>\n",
              "      <td>5000</td>\n",
              "      <td>21</td>\n",
              "      <td>27</td>\n",
              "      <td>13495.0</td>\n",
              "    </tr>\n",
              "    <tr>\n",
              "      <th>1</th>\n",
              "      <td>2</td>\n",
              "      <td>3</td>\n",
              "      <td>alfa-romero stelvio</td>\n",
              "      <td>gas</td>\n",
              "      <td>std</td>\n",
              "      <td>two</td>\n",
              "      <td>convertible</td>\n",
              "      <td>rwd</td>\n",
              "      <td>front</td>\n",
              "      <td>88.6</td>\n",
              "      <td>168.8</td>\n",
              "      <td>64.1</td>\n",
              "      <td>48.8</td>\n",
              "      <td>2548</td>\n",
              "      <td>dohc</td>\n",
              "      <td>four</td>\n",
              "      <td>130</td>\n",
              "      <td>mpfi</td>\n",
              "      <td>3.47</td>\n",
              "      <td>2.68</td>\n",
              "      <td>9.0</td>\n",
              "      <td>111</td>\n",
              "      <td>5000</td>\n",
              "      <td>21</td>\n",
              "      <td>27</td>\n",
              "      <td>16500.0</td>\n",
              "    </tr>\n",
              "    <tr>\n",
              "      <th>2</th>\n",
              "      <td>3</td>\n",
              "      <td>1</td>\n",
              "      <td>alfa-romero Quadrifoglio</td>\n",
              "      <td>gas</td>\n",
              "      <td>std</td>\n",
              "      <td>two</td>\n",
              "      <td>hatchback</td>\n",
              "      <td>rwd</td>\n",
              "      <td>front</td>\n",
              "      <td>94.5</td>\n",
              "      <td>171.2</td>\n",
              "      <td>65.5</td>\n",
              "      <td>52.4</td>\n",
              "      <td>2823</td>\n",
              "      <td>ohcv</td>\n",
              "      <td>six</td>\n",
              "      <td>152</td>\n",
              "      <td>mpfi</td>\n",
              "      <td>2.68</td>\n",
              "      <td>3.47</td>\n",
              "      <td>9.0</td>\n",
              "      <td>154</td>\n",
              "      <td>5000</td>\n",
              "      <td>19</td>\n",
              "      <td>26</td>\n",
              "      <td>16500.0</td>\n",
              "    </tr>\n",
              "    <tr>\n",
              "      <th>3</th>\n",
              "      <td>4</td>\n",
              "      <td>2</td>\n",
              "      <td>audi 100 ls</td>\n",
              "      <td>gas</td>\n",
              "      <td>std</td>\n",
              "      <td>four</td>\n",
              "      <td>sedan</td>\n",
              "      <td>fwd</td>\n",
              "      <td>front</td>\n",
              "      <td>99.8</td>\n",
              "      <td>176.6</td>\n",
              "      <td>66.2</td>\n",
              "      <td>54.3</td>\n",
              "      <td>2337</td>\n",
              "      <td>ohc</td>\n",
              "      <td>four</td>\n",
              "      <td>109</td>\n",
              "      <td>mpfi</td>\n",
              "      <td>3.19</td>\n",
              "      <td>3.40</td>\n",
              "      <td>10.0</td>\n",
              "      <td>102</td>\n",
              "      <td>5500</td>\n",
              "      <td>24</td>\n",
              "      <td>30</td>\n",
              "      <td>13950.0</td>\n",
              "    </tr>\n",
              "    <tr>\n",
              "      <th>4</th>\n",
              "      <td>5</td>\n",
              "      <td>2</td>\n",
              "      <td>audi 100ls</td>\n",
              "      <td>gas</td>\n",
              "      <td>std</td>\n",
              "      <td>four</td>\n",
              "      <td>sedan</td>\n",
              "      <td>4wd</td>\n",
              "      <td>front</td>\n",
              "      <td>99.4</td>\n",
              "      <td>176.6</td>\n",
              "      <td>66.4</td>\n",
              "      <td>54.3</td>\n",
              "      <td>2824</td>\n",
              "      <td>ohc</td>\n",
              "      <td>five</td>\n",
              "      <td>136</td>\n",
              "      <td>mpfi</td>\n",
              "      <td>3.19</td>\n",
              "      <td>3.40</td>\n",
              "      <td>8.0</td>\n",
              "      <td>115</td>\n",
              "      <td>5500</td>\n",
              "      <td>18</td>\n",
              "      <td>22</td>\n",
              "      <td>17450.0</td>\n",
              "    </tr>\n",
              "  </tbody>\n",
              "</table>\n",
              "</div>"
            ],
            "text/plain": [
              "   car_ID  symboling                   CarName  ... citympg highwaympg    price\n",
              "0       1          3        alfa-romero giulia  ...      21         27  13495.0\n",
              "1       2          3       alfa-romero stelvio  ...      21         27  16500.0\n",
              "2       3          1  alfa-romero Quadrifoglio  ...      19         26  16500.0\n",
              "3       4          2               audi 100 ls  ...      24         30  13950.0\n",
              "4       5          2                audi 100ls  ...      18         22  17450.0\n",
              "\n",
              "[5 rows x 26 columns]"
            ]
          },
          "metadata": {
            "tags": []
          },
          "execution_count": 92
        }
      ]
    },
    {
      "cell_type": "code",
      "metadata": {
        "id": "ffUddE1PlvPz"
      },
      "source": [
        "df1 =df1.drop([\"car_ID\",\"symboling\",\"CarName\"],axis=1)\n",
        "\n"
      ],
      "execution_count": null,
      "outputs": []
    },
    {
      "cell_type": "code",
      "metadata": {
        "colab": {
          "base_uri": "https://localhost:8080/"
        },
        "id": "TBVhFydk-1jx",
        "outputId": "0612e8d2-a45a-4aee-fd64-c446ff48bd1b"
      },
      "source": [
        "df1.info()\n"
      ],
      "execution_count": null,
      "outputs": [
        {
          "output_type": "stream",
          "text": [
            "<class 'pandas.core.frame.DataFrame'>\n",
            "RangeIndex: 205 entries, 0 to 204\n",
            "Data columns (total 23 columns):\n",
            " #   Column            Non-Null Count  Dtype  \n",
            "---  ------            --------------  -----  \n",
            " 0   fueltype          205 non-null    object \n",
            " 1   aspiration        205 non-null    object \n",
            " 2   doornumber        205 non-null    object \n",
            " 3   carbody           205 non-null    object \n",
            " 4   drivewheel        205 non-null    object \n",
            " 5   enginelocation    205 non-null    object \n",
            " 6   wheelbase         205 non-null    float64\n",
            " 7   carlength         205 non-null    float64\n",
            " 8   carwidth          205 non-null    float64\n",
            " 9   carheight         205 non-null    float64\n",
            " 10  curbweight        205 non-null    int64  \n",
            " 11  enginetype        205 non-null    object \n",
            " 12  cylindernumber    205 non-null    object \n",
            " 13  enginesize        205 non-null    int64  \n",
            " 14  fuelsystem        205 non-null    object \n",
            " 15  boreratio         205 non-null    float64\n",
            " 16  stroke            205 non-null    float64\n",
            " 17  compressionratio  205 non-null    float64\n",
            " 18  horsepower        205 non-null    int64  \n",
            " 19  peakrpm           205 non-null    int64  \n",
            " 20  citympg           205 non-null    int64  \n",
            " 21  highwaympg        205 non-null    int64  \n",
            " 22  price             205 non-null    float64\n",
            "dtypes: float64(8), int64(6), object(9)\n",
            "memory usage: 37.0+ KB\n"
          ],
          "name": "stdout"
        }
      ]
    },
    {
      "cell_type": "code",
      "metadata": {
        "colab": {
          "base_uri": "https://localhost:8080/"
        },
        "id": "s-tIK2LI-1jy",
        "outputId": "9bdc8c6f-c111-46d0-901c-0b9e72065b49"
      },
      "source": [
        "#2.Check Missing Values ( If Exist ; Fill each record with mean of its feature )\n",
        "missing =df1.apply(lambda x: x.isna().sum() )\n",
        "missing"
      ],
      "execution_count": null,
      "outputs": [
        {
          "output_type": "execute_result",
          "data": {
            "text/plain": [
              "fueltype            0\n",
              "aspiration          0\n",
              "doornumber          0\n",
              "carbody             0\n",
              "drivewheel          0\n",
              "enginelocation      0\n",
              "wheelbase           0\n",
              "carlength           0\n",
              "carwidth            0\n",
              "carheight           0\n",
              "curbweight          0\n",
              "enginetype          0\n",
              "cylindernumber      0\n",
              "enginesize          0\n",
              "fuelsystem          0\n",
              "boreratio           0\n",
              "stroke              0\n",
              "compressionratio    0\n",
              "horsepower          0\n",
              "peakrpm             0\n",
              "citympg             0\n",
              "highwaympg          0\n",
              "price               0\n",
              "dtype: int64"
            ]
          },
          "metadata": {
            "tags": []
          },
          "execution_count": 95
        }
      ]
    },
    {
      "cell_type": "code",
      "metadata": {
        "colab": {
          "base_uri": "https://localhost:8080/"
        },
        "id": "OCIadpjoOj_M",
        "outputId": "019e2dad-ff07-4abf-edd5-260b0b4452a4"
      },
      "source": [
        "df1.corr()['price'].sort_values()   \n",
        "\n",
        "#price has good correlation with\n",
        "#boreratio : 0.553173\n",
        "#wheelbase : 0.577816\n",
        "#carlength : 0.682920\n",
        "#carwidth  : 0.759325\n",
        "#horsepower : 0.808139 high relation with price\n",
        "#curbweight: 0.835305  high relation with price\n",
        "#enginesize :  0.874145 high relation with price"
      ],
      "execution_count": null,
      "outputs": [
        {
          "output_type": "execute_result",
          "data": {
            "text/plain": [
              "highwaympg         -0.697599\n",
              "citympg            -0.685751\n",
              "peakrpm            -0.085267\n",
              "compressionratio    0.067984\n",
              "stroke              0.079443\n",
              "carheight           0.119336\n",
              "boreratio           0.553173\n",
              "wheelbase           0.577816\n",
              "carlength           0.682920\n",
              "carwidth            0.759325\n",
              "horsepower          0.808139\n",
              "curbweight          0.835305\n",
              "enginesize          0.874145\n",
              "price               1.000000\n",
              "Name: price, dtype: float64"
            ]
          },
          "metadata": {
            "tags": []
          },
          "execution_count": 96
        }
      ]
    },
    {
      "cell_type": "code",
      "metadata": {
        "id": "WX8d9YueOkI-"
      },
      "source": [
        "import matplotlib.pyplot as plt\n"
      ],
      "execution_count": null,
      "outputs": []
    },
    {
      "cell_type": "code",
      "metadata": {
        "colab": {
          "base_uri": "https://localhost:8080/",
          "height": 296
        },
        "id": "02TlEBykVA3Q",
        "outputId": "24a3fc88-8c5a-4bdd-870e-f7d531669e82"
      },
      "source": [
        "plt.scatter(data =df1, x=\"horsepower\", y=\"price\")\n",
        "plt.xlabel(\"horsepower\")\n",
        "plt.ylabel(\"price\")"
      ],
      "execution_count": null,
      "outputs": [
        {
          "output_type": "execute_result",
          "data": {
            "text/plain": [
              "Text(0, 0.5, 'price')"
            ]
          },
          "metadata": {
            "tags": []
          },
          "execution_count": 98
        },
        {
          "output_type": "display_data",
          "data": {
            "image/png": "[encoded data removed]",
            "text/plain": [
              "<Figure size 432x288 with 1 Axes>"
            ]
          },
          "metadata": {
            "tags": [],
            "needs_background": "light"
          }
        }
      ]
    },
    {
      "cell_type": "code",
      "metadata": {
        "colab": {
          "base_uri": "https://localhost:8080/",
          "height": 296
        },
        "id": "olEraG-yX7-c",
        "outputId": "8177f320-83d1-4919-904a-6f84e3c306f1"
      },
      "source": [
        "plt.scatter(data =df1, x=\"curbweight\", y=\"price\")\n",
        "plt.xlabel(\"curbweight\")\n",
        "plt.ylabel(\"price\")"
      ],
      "execution_count": null,
      "outputs": [
        {
          "output_type": "execute_result",
          "data": {
            "text/plain": [
              "Text(0, 0.5, 'price')"
            ]
          },
          "metadata": {
            "tags": []
          },
          "execution_count": 99
        },
        {
          "output_type": "display_data",
          "data": {
            "image/png": "[encoded data removed]",
            "text/plain": [
              "<Figure size 432x288 with 1 Axes>"
            ]
          },
          "metadata": {
            "tags": [],
            "needs_background": "light"
          }
        }
      ]
    },
    {
      "cell_type": "code",
      "metadata": {
        "colab": {
          "base_uri": "https://localhost:8080/",
          "height": 296
        },
        "id": "vo6wSu7IYDl1",
        "outputId": "85ae1d01-b4a8-4db1-fb5d-af754c54dd50"
      },
      "source": [
        "plt.scatter(data =df1, x=\"enginesize\", y=\"price\")\n",
        "plt.xlabel(\"enginesize\")\n",
        "plt.ylabel(\"price\")"
      ],
      "execution_count": null,
      "outputs": [
        {
          "output_type": "execute_result",
          "data": {
            "text/plain": [
              "Text(0, 0.5, 'price')"
            ]
          },
          "metadata": {
            "tags": []
          },
          "execution_count": 101
        },
        {
          "output_type": "display_data",
          "data": {
            "image/png": "[encoded data removed]",
            "text/plain": [
              "<Figure size 432x288 with 1 Axes>"
            ]
          },
          "metadata": {
            "tags": [],
            "needs_background": "light"
          }
        }
      ]
    },
    {
      "cell_type": "code",
      "metadata": {
        "colab": {
          "base_uri": "https://localhost:8080/",
          "height": 307
        },
        "id": "cwGjI-PHjZOd",
        "outputId": "dfb41e4f-e011-4fcb-ea0d-cfe5b5ecad33"
      },
      "source": [
        "df1.describe()"
      ],
      "execution_count": null,
      "outputs": [
        {
          "output_type": "execute_result",
          "data": {
            "text/html": [
              "<div>\n",
              "<style scoped>\n",
              "    .dataframe tbody tr th:only-of-type {\n",
              "        vertical-align: middle;\n",
              "    }\n",
              "\n",
              "    .dataframe tbody tr th {\n",
              "        vertical-align: top;\n",
              "    }\n",
              "\n",
              "    .dataframe thead th {\n",
              "        text-align: right;\n",
              "    }\n",
              "</style>\n",
              "<table border=\"1\" class=\"dataframe\">\n",
              "  <thead>\n",
              "    <tr style=\"text-align: right;\">\n",
              "      <th></th>\n",
              "      <th>wheelbase</th>\n",
              "      <th>carlength</th>\n",
              "      <th>carwidth</th>\n",
              "      <th>carheight</th>\n",
              "      <th>curbweight</th>\n",
              "      <th>enginesize</th>\n",
              "      <th>boreratio</th>\n",
              "      <th>stroke</th>\n",
              "      <th>compressionratio</th>\n",
              "      <th>horsepower</th>\n",
              "      <th>peakrpm</th>\n",
              "      <th>citympg</th>\n",
              "      <th>highwaympg</th>\n",
              "      <th>price</th>\n",
              "    </tr>\n",
              "  </thead>\n",
              "  <tbody>\n",
              "    <tr>\n",
              "      <th>count</th>\n",
              "      <td>205.000000</td>\n",
              "      <td>205.000000</td>\n",
              "      <td>205.000000</td>\n",
              "      <td>205.000000</td>\n",
              "      <td>205.000000</td>\n",
              "      <td>205.000000</td>\n",
              "      <td>205.000000</td>\n",
              "      <td>205.000000</td>\n",
              "      <td>205.000000</td>\n",
              "      <td>205.000000</td>\n",
              "      <td>205.000000</td>\n",
              "      <td>205.000000</td>\n",
              "      <td>205.000000</td>\n",
              "      <td>205.000000</td>\n",
              "    </tr>\n",
              "    <tr>\n",
              "      <th>mean</th>\n",
              "      <td>98.756585</td>\n",
              "      <td>174.049268</td>\n",
              "      <td>65.907805</td>\n",
              "      <td>53.724878</td>\n",
              "      <td>2555.565854</td>\n",
              "      <td>126.907317</td>\n",
              "      <td>3.329756</td>\n",
              "      <td>3.255415</td>\n",
              "      <td>10.142537</td>\n",
              "      <td>104.117073</td>\n",
              "      <td>5125.121951</td>\n",
              "      <td>25.219512</td>\n",
              "      <td>30.751220</td>\n",
              "      <td>13276.710571</td>\n",
              "    </tr>\n",
              "    <tr>\n",
              "      <th>std</th>\n",
              "      <td>6.021776</td>\n",
              "      <td>12.337289</td>\n",
              "      <td>2.145204</td>\n",
              "      <td>2.443522</td>\n",
              "      <td>520.680204</td>\n",
              "      <td>41.642693</td>\n",
              "      <td>0.270844</td>\n",
              "      <td>0.313597</td>\n",
              "      <td>3.972040</td>\n",
              "      <td>39.544167</td>\n",
              "      <td>476.985643</td>\n",
              "      <td>6.542142</td>\n",
              "      <td>6.886443</td>\n",
              "      <td>7988.852332</td>\n",
              "    </tr>\n",
              "    <tr>\n",
              "      <th>min</th>\n",
              "      <td>86.600000</td>\n",
              "      <td>141.100000</td>\n",
              "      <td>60.300000</td>\n",
              "      <td>47.800000</td>\n",
              "      <td>1488.000000</td>\n",
              "      <td>61.000000</td>\n",
              "      <td>2.540000</td>\n",
              "      <td>2.070000</td>\n",
              "      <td>7.000000</td>\n",
              "      <td>48.000000</td>\n",
              "      <td>4150.000000</td>\n",
              "      <td>13.000000</td>\n",
              "      <td>16.000000</td>\n",
              "      <td>5118.000000</td>\n",
              "    </tr>\n",
              "    <tr>\n",
              "      <th>25%</th>\n",
              "      <td>94.500000</td>\n",
              "      <td>166.300000</td>\n",
              "      <td>64.100000</td>\n",
              "      <td>52.000000</td>\n",
              "      <td>2145.000000</td>\n",
              "      <td>97.000000</td>\n",
              "      <td>3.150000</td>\n",
              "      <td>3.110000</td>\n",
              "      <td>8.600000</td>\n",
              "      <td>70.000000</td>\n",
              "      <td>4800.000000</td>\n",
              "      <td>19.000000</td>\n",
              "      <td>25.000000</td>\n",
              "      <td>7788.000000</td>\n",
              "    </tr>\n",
              "    <tr>\n",
              "      <th>50%</th>\n",
              "      <td>97.000000</td>\n",
              "      <td>173.200000</td>\n",
              "      <td>65.500000</td>\n",
              "      <td>54.100000</td>\n",
              "      <td>2414.000000</td>\n",
              "      <td>120.000000</td>\n",
              "      <td>3.310000</td>\n",
              "      <td>3.290000</td>\n",
              "      <td>9.000000</td>\n",
              "      <td>95.000000</td>\n",
              "      <td>5200.000000</td>\n",
              "      <td>24.000000</td>\n",
              "      <td>30.000000</td>\n",
              "      <td>10295.000000</td>\n",
              "    </tr>\n",
              "    <tr>\n",
              "      <th>75%</th>\n",
              "      <td>102.400000</td>\n",
              "      <td>183.100000</td>\n",
              "      <td>66.900000</td>\n",
              "      <td>55.500000</td>\n",
              "      <td>2935.000000</td>\n",
              "      <td>141.000000</td>\n",
              "      <td>3.580000</td>\n",
              "      <td>3.410000</td>\n",
              "      <td>9.400000</td>\n",
              "      <td>116.000000</td>\n",
              "      <td>5500.000000</td>\n",
              "      <td>30.000000</td>\n",
              "      <td>34.000000</td>\n",
              "      <td>16503.000000</td>\n",
              "    </tr>\n",
              "    <tr>\n",
              "      <th>max</th>\n",
              "      <td>120.900000</td>\n",
              "      <td>208.100000</td>\n",
              "      <td>72.300000</td>\n",
              "      <td>59.800000</td>\n",
              "      <td>4066.000000</td>\n",
              "      <td>326.000000</td>\n",
              "      <td>3.940000</td>\n",
              "      <td>4.170000</td>\n",
              "      <td>23.000000</td>\n",
              "      <td>288.000000</td>\n",
              "      <td>6600.000000</td>\n",
              "      <td>49.000000</td>\n",
              "      <td>54.000000</td>\n",
              "      <td>45400.000000</td>\n",
              "    </tr>\n",
              "  </tbody>\n",
              "</table>\n",
              "</div>"
            ],
            "text/plain": [
              "        wheelbase   carlength    carwidth  ...     citympg  highwaympg         price\n",
              "count  205.000000  205.000000  205.000000  ...  205.000000  205.000000    205.000000\n",
              "mean    98.756585  174.049268   65.907805  ...   25.219512   30.751220  13276.710571\n",
              "std      6.021776   12.337289    2.145204  ...    6.542142    6.886443   7988.852332\n",
              "min     86.600000  141.100000   60.300000  ...   13.000000   16.000000   5118.000000\n",
              "25%     94.500000  166.300000   64.100000  ...   19.000000   25.000000   7788.000000\n",
              "50%     97.000000  173.200000   65.500000  ...   24.000000   30.000000  10295.000000\n",
              "75%    102.400000  183.100000   66.900000  ...   30.000000   34.000000  16503.000000\n",
              "max    120.900000  208.100000   72.300000  ...   49.000000   54.000000  45400.000000\n",
              "\n",
              "[8 rows x 14 columns]"
            ]
          },
          "metadata": {
            "tags": []
          },
          "execution_count": 102
        }
      ]
    },
    {
      "cell_type": "code",
      "metadata": {
        "id": "WCAXXZ6Rp-F2"
      },
      "source": [
        "### 75% of car's price is 16503.00 and max price goes upto 45400.00. let's check th outliers.\n",
        "df1=df1[df1[\"price\"] <40000.00].reset_index(drop =True)\n"
      ],
      "execution_count": null,
      "outputs": []
    },
    {
      "cell_type": "code",
      "metadata": {
        "id": "et3g_dITuKEd"
      },
      "source": [
        "### 75% of horsepower is 116 and max goes upto 288. let's check th outliers.\n",
        "df1=df1[df1[\"horsepower\"] < 200].reset_index(drop =True)\n"
      ],
      "execution_count": null,
      "outputs": []
    },
    {
      "cell_type": "code",
      "metadata": {
        "id": "nRqpZXnaw_RM"
      },
      "source": [
        "### 75% of curbweight is 2935 and max goes upto 4066. let's check th outliers.\n",
        "df1=df1[df1[\"curbweight\"] <3800 ].reset_index(drop =True)\n",
        "\n"
      ],
      "execution_count": null,
      "outputs": []
    },
    {
      "cell_type": "code",
      "metadata": {
        "id": "-SIStY3_zJgh"
      },
      "source": [
        "### 75% of enginesize is 141 and max goes upto 326. let's check th outliers.\n",
        "df1=df1[df1[\"enginesize\"] <210 ].reset_index(drop =True)\n"
      ],
      "execution_count": null,
      "outputs": []
    },
    {
      "cell_type": "code",
      "metadata": {
        "colab": {
          "base_uri": "https://localhost:8080/"
        },
        "id": "dn5vcjVC0rZE",
        "outputId": "c995af87-ba3b-438b-e18d-777d38d3e26a"
      },
      "source": [
        "df1.shape"
      ],
      "execution_count": null,
      "outputs": [
        {
          "output_type": "execute_result",
          "data": {
            "text/plain": [
              "(192, 23)"
            ]
          },
          "metadata": {
            "tags": []
          },
          "execution_count": 107
        }
      ]
    },
    {
      "cell_type": "code",
      "metadata": {
        "colab": {
          "base_uri": "https://localhost:8080/"
        },
        "id": "cSAvS9pbdChJ",
        "outputId": "15aa8719-ee46-493e-a8fe-b12619c4274d"
      },
      "source": [
        "#2.Check Missing Values ( If Exist ; Fill each record with mean of its feature )\n",
        "missing =df1.apply(lambda x: x.isna().sum() )\n",
        "missing"
      ],
      "execution_count": null,
      "outputs": [
        {
          "output_type": "execute_result",
          "data": {
            "text/plain": [
              "fueltype            0\n",
              "aspiration          0\n",
              "doornumber          0\n",
              "carbody             0\n",
              "drivewheel          0\n",
              "enginelocation      0\n",
              "wheelbase           0\n",
              "carlength           0\n",
              "carwidth            0\n",
              "carheight           0\n",
              "curbweight          0\n",
              "enginetype          0\n",
              "cylindernumber      0\n",
              "enginesize          0\n",
              "fuelsystem          0\n",
              "boreratio           0\n",
              "stroke              0\n",
              "compressionratio    0\n",
              "horsepower          0\n",
              "peakrpm             0\n",
              "citympg             0\n",
              "highwaympg          0\n",
              "price               0\n",
              "dtype: int64"
            ]
          },
          "metadata": {
            "tags": []
          },
          "execution_count": 108
        }
      ]
    },
    {
      "cell_type": "code",
      "metadata": {
        "id": "GwpEz5fA4DMJ"
      },
      "source": [
        "df1.to_csv(\"cleaned_car_data.csv\")   # Saving cleaned data in a separate csv file\n"
      ],
      "execution_count": null,
      "outputs": []
    },
    {
      "cell_type": "code",
      "metadata": {
        "id": "LNrfloUEJrZT"
      },
      "source": [
        "#Categorical data processing because following are object type like\n",
        "# 1    CarName           192 non-null    object \n",
        "# 2   fueltype          192 non-null    object \n",
        "# 3   aspiration        192 non-null    object \n",
        "# 4   doornumber        192 non-null    object \n",
        "# 5   carbody           192 non-null    object \n",
        "# 6   drivewheel        192 non-null    object    and more .....\n",
        "\n",
        "df1_obj_columns = df1.select_dtypes(include =\"object\")\n",
        "df1_numerical_columns = df1.select_dtypes(exclude =\"object\")\n",
        " "
      ],
      "execution_count": null,
      "outputs": []
    },
    {
      "cell_type": "code",
      "metadata": {
        "colab": {
          "base_uri": "https://localhost:8080/"
        },
        "id": "94Dk1HLXdGSj",
        "outputId": "e0b452ed-99e0-4b5b-9df3-af7cf211b68c"
      },
      "source": [
        "#2.Check Missing Values ( If Exist ; Fill each record with mean of its feature )\n",
        "missing =df1.apply(lambda x: x.isna().sum() )\n",
        "missing"
      ],
      "execution_count": null,
      "outputs": [
        {
          "output_type": "execute_result",
          "data": {
            "text/plain": [
              "fueltype            0\n",
              "aspiration          0\n",
              "doornumber          0\n",
              "carbody             0\n",
              "drivewheel          0\n",
              "enginelocation      0\n",
              "wheelbase           0\n",
              "carlength           0\n",
              "carwidth            0\n",
              "carheight           0\n",
              "curbweight          0\n",
              "enginetype          0\n",
              "cylindernumber      0\n",
              "enginesize          0\n",
              "fuelsystem          0\n",
              "boreratio           0\n",
              "stroke              0\n",
              "compressionratio    0\n",
              "horsepower          0\n",
              "peakrpm             0\n",
              "citympg             0\n",
              "highwaympg          0\n",
              "price               0\n",
              "dtype: int64"
            ]
          },
          "metadata": {
            "tags": []
          },
          "execution_count": 111
        }
      ]
    },
    {
      "cell_type": "code",
      "metadata": {
        "colab": {
          "base_uri": "https://localhost:8080/",
          "height": 426
        },
        "id": "ffXULZleK4QT",
        "outputId": "7d83b814-4b3d-4637-be15-18c54f480e6a"
      },
      "source": [
        "# make obj columns to numerical columns using get_dummies\n",
        "df1_obj_dummies = pd.get_dummies(df1_obj_columns, drop_first= True)\n",
        "df1_obj_dummies"
      ],
      "execution_count": null,
      "outputs": [
        {
          "output_type": "execute_result",
          "data": {
            "text/html": [
              "<div>\n",
              "<style scoped>\n",
              "    .dataframe tbody tr th:only-of-type {\n",
              "        vertical-align: middle;\n",
              "    }\n",
              "\n",
              "    .dataframe tbody tr th {\n",
              "        vertical-align: top;\n",
              "    }\n",
              "\n",
              "    .dataframe thead th {\n",
              "        text-align: right;\n",
              "    }\n",
              "</style>\n",
              "<table border=\"1\" class=\"dataframe\">\n",
              "  <thead>\n",
              "    <tr style=\"text-align: right;\">\n",
              "      <th></th>\n",
              "      <th>fueltype_gas</th>\n",
              "      <th>aspiration_turbo</th>\n",
              "      <th>doornumber_two</th>\n",
              "      <th>carbody_hardtop</th>\n",
              "      <th>carbody_hatchback</th>\n",
              "      <th>carbody_sedan</th>\n",
              "      <th>carbody_wagon</th>\n",
              "      <th>drivewheel_fwd</th>\n",
              "      <th>drivewheel_rwd</th>\n",
              "      <th>enginetype_l</th>\n",
              "      <th>enginetype_ohc</th>\n",
              "      <th>enginetype_ohcf</th>\n",
              "      <th>enginetype_ohcv</th>\n",
              "      <th>enginetype_rotor</th>\n",
              "      <th>cylindernumber_four</th>\n",
              "      <th>cylindernumber_six</th>\n",
              "      <th>cylindernumber_three</th>\n",
              "      <th>cylindernumber_two</th>\n",
              "      <th>fuelsystem_2bbl</th>\n",
              "      <th>fuelsystem_4bbl</th>\n",
              "      <th>fuelsystem_idi</th>\n",
              "      <th>fuelsystem_mfi</th>\n",
              "      <th>fuelsystem_mpfi</th>\n",
              "      <th>fuelsystem_spdi</th>\n",
              "      <th>fuelsystem_spfi</th>\n",
              "    </tr>\n",
              "  </thead>\n",
              "  <tbody>\n",
              "    <tr>\n",
              "      <th>0</th>\n",
              "      <td>1</td>\n",
              "      <td>0</td>\n",
              "      <td>1</td>\n",
              "      <td>0</td>\n",
              "      <td>0</td>\n",
              "      <td>0</td>\n",
              "      <td>0</td>\n",
              "      <td>0</td>\n",
              "      <td>1</td>\n",
              "      <td>0</td>\n",
              "      <td>0</td>\n",
              "      <td>0</td>\n",
              "      <td>0</td>\n",
              "      <td>0</td>\n",
              "      <td>1</td>\n",
              "      <td>0</td>\n",
              "      <td>0</td>\n",
              "      <td>0</td>\n",
              "      <td>0</td>\n",
              "      <td>0</td>\n",
              "      <td>0</td>\n",
              "      <td>0</td>\n",
              "      <td>1</td>\n",
              "      <td>0</td>\n",
              "      <td>0</td>\n",
              "    </tr>\n",
              "    <tr>\n",
              "      <th>1</th>\n",
              "      <td>1</td>\n",
              "      <td>0</td>\n",
              "      <td>1</td>\n",
              "      <td>0</td>\n",
              "      <td>0</td>\n",
              "      <td>0</td>\n",
              "      <td>0</td>\n",
              "      <td>0</td>\n",
              "      <td>1</td>\n",
              "      <td>0</td>\n",
              "      <td>0</td>\n",
              "      <td>0</td>\n",
              "      <td>0</td>\n",
              "      <td>0</td>\n",
              "      <td>1</td>\n",
              "      <td>0</td>\n",
              "      <td>0</td>\n",
              "      <td>0</td>\n",
              "      <td>0</td>\n",
              "      <td>0</td>\n",
              "      <td>0</td>\n",
              "      <td>0</td>\n",
              "      <td>1</td>\n",
              "      <td>0</td>\n",
              "      <td>0</td>\n",
              "    </tr>\n",
              "    <tr>\n",
              "      <th>2</th>\n",
              "      <td>1</td>\n",
              "      <td>0</td>\n",
              "      <td>1</td>\n",
              "      <td>0</td>\n",
              "      <td>1</td>\n",
              "      <td>0</td>\n",
              "      <td>0</td>\n",
              "      <td>0</td>\n",
              "      <td>1</td>\n",
              "      <td>0</td>\n",
              "      <td>0</td>\n",
              "      <td>0</td>\n",
              "      <td>1</td>\n",
              "      <td>0</td>\n",
              "      <td>0</td>\n",
              "      <td>1</td>\n",
              "      <td>0</td>\n",
              "      <td>0</td>\n",
              "      <td>0</td>\n",
              "      <td>0</td>\n",
              "      <td>0</td>\n",
              "      <td>0</td>\n",
              "      <td>1</td>\n",
              "      <td>0</td>\n",
              "      <td>0</td>\n",
              "    </tr>\n",
              "    <tr>\n",
              "      <th>3</th>\n",
              "      <td>1</td>\n",
              "      <td>0</td>\n",
              "      <td>0</td>\n",
              "      <td>0</td>\n",
              "      <td>0</td>\n",
              "      <td>1</td>\n",
              "      <td>0</td>\n",
              "      <td>1</td>\n",
              "      <td>0</td>\n",
              "      <td>0</td>\n",
              "      <td>1</td>\n",
              "      <td>0</td>\n",
              "      <td>0</td>\n",
              "      <td>0</td>\n",
              "      <td>1</td>\n",
              "      <td>0</td>\n",
              "      <td>0</td>\n",
              "      <td>0</td>\n",
              "      <td>0</td>\n",
              "      <td>0</td>\n",
              "      <td>0</td>\n",
              "      <td>0</td>\n",
              "      <td>1</td>\n",
              "      <td>0</td>\n",
              "      <td>0</td>\n",
              "    </tr>\n",
              "    <tr>\n",
              "      <th>4</th>\n",
              "      <td>1</td>\n",
              "      <td>0</td>\n",
              "      <td>0</td>\n",
              "      <td>0</td>\n",
              "      <td>0</td>\n",
              "      <td>1</td>\n",
              "      <td>0</td>\n",
              "      <td>0</td>\n",
              "      <td>0</td>\n",
              "      <td>0</td>\n",
              "      <td>1</td>\n",
              "      <td>0</td>\n",
              "      <td>0</td>\n",
              "      <td>0</td>\n",
              "      <td>0</td>\n",
              "      <td>0</td>\n",
              "      <td>0</td>\n",
              "      <td>0</td>\n",
              "      <td>0</td>\n",
              "      <td>0</td>\n",
              "      <td>0</td>\n",
              "      <td>0</td>\n",
              "      <td>1</td>\n",
              "      <td>0</td>\n",
              "      <td>0</td>\n",
              "    </tr>\n",
              "    <tr>\n",
              "      <th>...</th>\n",
              "      <td>...</td>\n",
              "      <td>...</td>\n",
              "      <td>...</td>\n",
              "      <td>...</td>\n",
              "      <td>...</td>\n",
              "      <td>...</td>\n",
              "      <td>...</td>\n",
              "      <td>...</td>\n",
              "      <td>...</td>\n",
              "      <td>...</td>\n",
              "      <td>...</td>\n",
              "      <td>...</td>\n",
              "      <td>...</td>\n",
              "      <td>...</td>\n",
              "      <td>...</td>\n",
              "      <td>...</td>\n",
              "      <td>...</td>\n",
              "      <td>...</td>\n",
              "      <td>...</td>\n",
              "      <td>...</td>\n",
              "      <td>...</td>\n",
              "      <td>...</td>\n",
              "      <td>...</td>\n",
              "      <td>...</td>\n",
              "      <td>...</td>\n",
              "    </tr>\n",
              "    <tr>\n",
              "      <th>187</th>\n",
              "      <td>1</td>\n",
              "      <td>0</td>\n",
              "      <td>0</td>\n",
              "      <td>0</td>\n",
              "      <td>0</td>\n",
              "      <td>1</td>\n",
              "      <td>0</td>\n",
              "      <td>0</td>\n",
              "      <td>1</td>\n",
              "      <td>0</td>\n",
              "      <td>1</td>\n",
              "      <td>0</td>\n",
              "      <td>0</td>\n",
              "      <td>0</td>\n",
              "      <td>1</td>\n",
              "      <td>0</td>\n",
              "      <td>0</td>\n",
              "      <td>0</td>\n",
              "      <td>0</td>\n",
              "      <td>0</td>\n",
              "      <td>0</td>\n",
              "      <td>0</td>\n",
              "      <td>1</td>\n",
              "      <td>0</td>\n",
              "      <td>0</td>\n",
              "    </tr>\n",
              "    <tr>\n",
              "      <th>188</th>\n",
              "      <td>1</td>\n",
              "      <td>1</td>\n",
              "      <td>0</td>\n",
              "      <td>0</td>\n",
              "      <td>0</td>\n",
              "      <td>1</td>\n",
              "      <td>0</td>\n",
              "      <td>0</td>\n",
              "      <td>1</td>\n",
              "      <td>0</td>\n",
              "      <td>1</td>\n",
              "      <td>0</td>\n",
              "      <td>0</td>\n",
              "      <td>0</td>\n",
              "      <td>1</td>\n",
              "      <td>0</td>\n",
              "      <td>0</td>\n",
              "      <td>0</td>\n",
              "      <td>0</td>\n",
              "      <td>0</td>\n",
              "      <td>0</td>\n",
              "      <td>0</td>\n",
              "      <td>1</td>\n",
              "      <td>0</td>\n",
              "      <td>0</td>\n",
              "    </tr>\n",
              "    <tr>\n",
              "      <th>189</th>\n",
              "      <td>1</td>\n",
              "      <td>0</td>\n",
              "      <td>0</td>\n",
              "      <td>0</td>\n",
              "      <td>0</td>\n",
              "      <td>1</td>\n",
              "      <td>0</td>\n",
              "      <td>0</td>\n",
              "      <td>1</td>\n",
              "      <td>0</td>\n",
              "      <td>0</td>\n",
              "      <td>0</td>\n",
              "      <td>1</td>\n",
              "      <td>0</td>\n",
              "      <td>0</td>\n",
              "      <td>1</td>\n",
              "      <td>0</td>\n",
              "      <td>0</td>\n",
              "      <td>0</td>\n",
              "      <td>0</td>\n",
              "      <td>0</td>\n",
              "      <td>0</td>\n",
              "      <td>1</td>\n",
              "      <td>0</td>\n",
              "      <td>0</td>\n",
              "    </tr>\n",
              "    <tr>\n",
              "      <th>190</th>\n",
              "      <td>0</td>\n",
              "      <td>1</td>\n",
              "      <td>0</td>\n",
              "      <td>0</td>\n",
              "      <td>0</td>\n",
              "      <td>1</td>\n",
              "      <td>0</td>\n",
              "      <td>0</td>\n",
              "      <td>1</td>\n",
              "      <td>0</td>\n",
              "      <td>1</td>\n",
              "      <td>0</td>\n",
              "      <td>0</td>\n",
              "      <td>0</td>\n",
              "      <td>0</td>\n",
              "      <td>1</td>\n",
              "      <td>0</td>\n",
              "      <td>0</td>\n",
              "      <td>0</td>\n",
              "      <td>0</td>\n",
              "      <td>1</td>\n",
              "      <td>0</td>\n",
              "      <td>0</td>\n",
              "      <td>0</td>\n",
              "      <td>0</td>\n",
              "    </tr>\n",
              "    <tr>\n",
              "      <th>191</th>\n",
              "      <td>1</td>\n",
              "      <td>1</td>\n",
              "      <td>0</td>\n",
              "      <td>0</td>\n",
              "      <td>0</td>\n",
              "      <td>1</td>\n",
              "      <td>0</td>\n",
              "      <td>0</td>\n",
              "      <td>1</td>\n",
              "      <td>0</td>\n",
              "      <td>1</td>\n",
              "      <td>0</td>\n",
              "      <td>0</td>\n",
              "      <td>0</td>\n",
              "      <td>1</td>\n",
              "      <td>0</td>\n",
              "      <td>0</td>\n",
              "      <td>0</td>\n",
              "      <td>0</td>\n",
              "      <td>0</td>\n",
              "      <td>0</td>\n",
              "      <td>0</td>\n",
              "      <td>1</td>\n",
              "      <td>0</td>\n",
              "      <td>0</td>\n",
              "    </tr>\n",
              "  </tbody>\n",
              "</table>\n",
              "<p>192 rows × 25 columns</p>\n",
              "</div>"
            ],
            "text/plain": [
              "     fueltype_gas  aspiration_turbo  ...  fuelsystem_spdi  fuelsystem_spfi\n",
              "0               1                 0  ...                0                0\n",
              "1               1                 0  ...                0                0\n",
              "2               1                 0  ...                0                0\n",
              "3               1                 0  ...                0                0\n",
              "4               1                 0  ...                0                0\n",
              "..            ...               ...  ...              ...              ...\n",
              "187             1                 0  ...                0                0\n",
              "188             1                 1  ...                0                0\n",
              "189             1                 0  ...                0                0\n",
              "190             0                 1  ...                0                0\n",
              "191             1                 1  ...                0                0\n",
              "\n",
              "[192 rows x 25 columns]"
            ]
          },
          "metadata": {
            "tags": []
          },
          "execution_count": 112
        }
      ]
    },
    {
      "cell_type": "code",
      "metadata": {
        "id": "JNFsRCDkXvF8"
      },
      "source": [
        "final_df1 = pd.concat([df1_numerical_columns,df1_obj_dummies],axis =1)\n"
      ],
      "execution_count": null,
      "outputs": []
    },
    {
      "cell_type": "code",
      "metadata": {
        "colab": {
          "base_uri": "https://localhost:8080/"
        },
        "id": "F4XiExYja319",
        "outputId": "69ba2f2c-7855-4cfd-d4a5-e513e1513b58"
      },
      "source": [
        "final_df1.info()"
      ],
      "execution_count": null,
      "outputs": [
        {
          "output_type": "stream",
          "text": [
            "<class 'pandas.core.frame.DataFrame'>\n",
            "RangeIndex: 192 entries, 0 to 191\n",
            "Data columns (total 39 columns):\n",
            " #   Column                Non-Null Count  Dtype  \n",
            "---  ------                --------------  -----  \n",
            " 0   wheelbase             192 non-null    float64\n",
            " 1   carlength             192 non-null    float64\n",
            " 2   carwidth              192 non-null    float64\n",
            " 3   carheight             192 non-null    float64\n",
            " 4   curbweight            192 non-null    int64  \n",
            " 5   enginesize            192 non-null    int64  \n",
            " 6   boreratio             192 non-null    float64\n",
            " 7   stroke                192 non-null    float64\n",
            " 8   compressionratio      192 non-null    float64\n",
            " 9   horsepower            192 non-null    int64  \n",
            " 10  peakrpm               192 non-null    int64  \n",
            " 11  citympg               192 non-null    int64  \n",
            " 12  highwaympg            192 non-null    int64  \n",
            " 13  price                 192 non-null    float64\n",
            " 14  fueltype_gas          192 non-null    uint8  \n",
            " 15  aspiration_turbo      192 non-null    uint8  \n",
            " 16  doornumber_two        192 non-null    uint8  \n",
            " 17  carbody_hardtop       192 non-null    uint8  \n",
            " 18  carbody_hatchback     192 non-null    uint8  \n",
            " 19  carbody_sedan         192 non-null    uint8  \n",
            " 20  carbody_wagon         192 non-null    uint8  \n",
            " 21  drivewheel_fwd        192 non-null    uint8  \n",
            " 22  drivewheel_rwd        192 non-null    uint8  \n",
            " 23  enginetype_l          192 non-null    uint8  \n",
            " 24  enginetype_ohc        192 non-null    uint8  \n",
            " 25  enginetype_ohcf       192 non-null    uint8  \n",
            " 26  enginetype_ohcv       192 non-null    uint8  \n",
            " 27  enginetype_rotor      192 non-null    uint8  \n",
            " 28  cylindernumber_four   192 non-null    uint8  \n",
            " 29  cylindernumber_six    192 non-null    uint8  \n",
            " 30  cylindernumber_three  192 non-null    uint8  \n",
            " 31  cylindernumber_two    192 non-null    uint8  \n",
            " 32  fuelsystem_2bbl       192 non-null    uint8  \n",
            " 33  fuelsystem_4bbl       192 non-null    uint8  \n",
            " 34  fuelsystem_idi        192 non-null    uint8  \n",
            " 35  fuelsystem_mfi        192 non-null    uint8  \n",
            " 36  fuelsystem_mpfi       192 non-null    uint8  \n",
            " 37  fuelsystem_spdi       192 non-null    uint8  \n",
            " 38  fuelsystem_spfi       192 non-null    uint8  \n",
            "dtypes: float64(8), int64(6), uint8(25)\n",
            "memory usage: 25.8 KB\n"
          ],
          "name": "stdout"
        }
      ]
    },
    {
      "cell_type": "code",
      "metadata": {
        "colab": {
          "base_uri": "https://localhost:8080/"
        },
        "id": "hdOuWPN7a3_w",
        "outputId": "115986ce-342d-4feb-8a4d-faec3746b7dd"
      },
      "source": [
        "final_df1.corr()[\"price\"].sort_values(ascending =False)"
      ],
      "execution_count": null,
      "outputs": [
        {
          "output_type": "execute_result",
          "data": {
            "text/plain": [
              "price                   1.000000\n",
              "curbweight              0.848747\n",
              "carwidth                0.793310\n",
              "enginesize              0.782213\n",
              "carlength               0.743516\n",
              "horsepower              0.738631\n",
              "wheelbase               0.702823\n",
              "drivewheel_rwd          0.623454\n",
              "boreratio               0.501344\n",
              "fuelsystem_mpfi         0.485664\n",
              "cylindernumber_six      0.442969\n",
              "aspiration_turbo        0.378110\n",
              "carheight               0.295405\n",
              "fuelsystem_idi          0.246099\n",
              "compressionratio        0.193320\n",
              "carbody_sedan           0.176346\n",
              "enginetype_ohcv         0.160832\n",
              "enginetype_l            0.130429\n",
              "stroke                  0.111582\n",
              "carbody_wagon           0.039326\n",
              "carbody_hardtop         0.039157\n",
              "cylindernumber_two      0.031736\n",
              "enginetype_rotor        0.031736\n",
              "fuelsystem_mfi          0.015018\n",
              "fuelsystem_4bbl         0.007690\n",
              "fuelsystem_spfi        -0.009783\n",
              "fuelsystem_spdi        -0.032267\n",
              "cylindernumber_three   -0.086114\n",
              "peakrpm                -0.126538\n",
              "enginetype_ohc         -0.139695\n",
              "enginetype_ohcf        -0.150694\n",
              "doornumber_two         -0.187657\n",
              "fueltype_gas           -0.246099\n",
              "carbody_hatchback      -0.248176\n",
              "fuelsystem_2bbl        -0.560043\n",
              "drivewheel_fwd         -0.592255\n",
              "cylindernumber_four    -0.596084\n",
              "citympg                -0.655345\n",
              "highwaympg             -0.674011\n",
              "Name: price, dtype: float64"
            ]
          },
          "metadata": {
            "tags": []
          },
          "execution_count": 115
        }
      ]
    },
    {
      "cell_type": "code",
      "metadata": {
        "id": "sq5JuyxW7MQd"
      },
      "source": [
        "x = final_df1.drop(columns =\"price\")     #all are features except \"price\"\n",
        "y = final_df1[\"price\"]                     # prediction is price\n",
        "x=np.array(x)\n",
        "y=np.array(y)"
      ],
      "execution_count": null,
      "outputs": []
    },
    {
      "cell_type": "code",
      "metadata": {
        "id": "15Rk06tgKwFq"
      },
      "source": [
        "### 3. Split into 50% Training(Samples,Labels) , 30% Test(Samples,Labels) and 20% Validation Data(Samples,Labels).\n",
        "from sklearn.model_selection import train_test_split\n",
        "# Defines ratios, w.r.t. whole dataset.\n",
        "ratio_train = 0.5\n",
        "ratio_val = 0.2\n",
        "ratio_test = 0.3\n",
        "\n",
        "# Produces test split.\n",
        "x_remaining, x_test, y_remaining, y_test = train_test_split(x, y, test_size=ratio_test, random_state =2)\n",
        "\n",
        "# Adjusts val ratio, w.r.t. remaining dataset.\n",
        "ratio_remaining = 1 - ratio_test\n",
        "ratio_val_adjusted = ratio_val / ratio_remaining\n",
        "\n",
        "# Produces train and val splits.\n",
        "x_train, x_val, y_train, y_val = train_test_split(\n",
        "    x_remaining, y_remaining, test_size=ratio_val_adjusted)"
      ],
      "execution_count": null,
      "outputs": []
    },
    {
      "cell_type": "code",
      "metadata": {
        "colab": {
          "base_uri": "https://localhost:8080/"
        },
        "id": "0Y5RSFHkdZ3S",
        "outputId": "486a0a2e-4bc1-4903-a187-ab9466ba19f6"
      },
      "source": [
        "print(x_train.shape)\n",
        "print(y_train.shape)\n",
        "print(x_test.shape)\n",
        "print(y_test.shape)\n",
        "print(x_val.shape)\n",
        "print(y_val.shape)"
      ],
      "execution_count": null,
      "outputs": [
        {
          "output_type": "stream",
          "text": [
            "(95, 38)\n",
            "(95,)\n",
            "(58, 38)\n",
            "(58,)\n",
            "(39, 38)\n",
            "(39,)\n"
          ],
          "name": "stdout"
        }
      ]
    },
    {
      "cell_type": "code",
      "metadata": {
        "colab": {
          "base_uri": "https://localhost:8080/"
        },
        "id": "qV-GHV9RdZ52",
        "outputId": "9ae2441d-3756-4f17-c5aa-9907997b4e12"
      },
      "source": [
        "x_train.ndim"
      ],
      "execution_count": null,
      "outputs": [
        {
          "output_type": "execute_result",
          "data": {
            "text/plain": [
              "2"
            ]
          },
          "metadata": {
            "tags": []
          },
          "execution_count": 120
        }
      ]
    },
    {
      "cell_type": "code",
      "metadata": {
        "id": "I5PKMHHvfniZ"
      },
      "source": [
        "### Normalizing the  Data\n",
        "mean = x_train.mean(axis = 0)\n",
        "x_train = x_train- mean\n",
        "std = x_train.std(axis =0) + 0.000000001                          \n",
        "x_train /= std           # normalizing train data   \n",
        "\n",
        "x_test -= mean          # normalizing test data\n",
        "x_test /= std\n",
        "\n",
        "x_val -= mean            # normalizing validation data\n",
        "x_val /= std"
      ],
      "execution_count": null,
      "outputs": []
    },
    {
      "cell_type": "code",
      "metadata": {
        "id": "oed1W0j9wqek"
      },
      "source": [
        "#### 4.Model : input Layer (No. of features ), 3 hidden layers including 10,8,6 unit & Output Layer with activation function relu/tanh (check by experiment).\n",
        "\n",
        "####5.Compilation Step (Note : Its a Regression problem , select loss , metrics according to it)\n",
        "import tensorflow as tf\n",
        "\n",
        "\n",
        "def build_model():\n",
        "  model = tf.keras.Sequential([\n",
        "    tf.keras.layers.Dense(256, activation='relu', input_shape=(x_train.shape[1], )),\n",
        "    \n",
        "    tf.keras.layers.Dense(128, activation='relu'),\n",
        "    \n",
        "    tf.keras.layers.Dense(16, activation='relu'),\n",
        "    \n",
        "    tf.keras.layers.Dense(1)\n",
        "  ])\n",
        "  optimizer = tf.keras.optimizers\n",
        "\n",
        "  model.compile(loss='mse',\n",
        "                optimizer=\"rmsprop\",\n",
        "                metrics=['mae'])\n",
        "  return model"
      ],
      "execution_count": null,
      "outputs": []
    },
    {
      "cell_type": "code",
      "metadata": {
        "colab": {
          "base_uri": "https://localhost:8080/"
        },
        "id": "CvLpOAjP0Fey",
        "outputId": "4c98d60c-a8d8-4fea-8ea1-8f864af53eab"
      },
      "source": [
        "import tensorflow as tf\n",
        "\n",
        "### 6.Train the Model with Epochs (100) and validate it\n",
        "all_scores =[]\n",
        "all_mae_histories = []\n",
        "\n",
        "num_epochs =200\n",
        "\n",
        "model = build_model()\n",
        "history =model.fit(x_train, y_train, validation_data=(x_val,y_val),\n",
        "epochs=num_epochs, batch_size=16, verbose=1)\n",
        "\n",
        "\n",
        "\n",
        "\n",
        "\n",
        "\n",
        "\n"
      ],
      "execution_count": null,
      "outputs": [
        {
          "output_type": "stream",
          "text": [
            "Epoch 1/200\n",
            "6/6 [==============================] - 1s 39ms/step - loss: 142161485.7143 - mae: 11185.6122 - val_loss: 5816249007210496.0000 - val_mae: 12224520.0000\n",
            "Epoch 2/200\n",
            "6/6 [==============================] - 0s 12ms/step - loss: 128353944.0000 - mae: 10529.5608 - val_loss: 39022161591009280.0000 - val_mae: 31644210.0000\n",
            "Epoch 3/200\n",
            "6/6 [==============================] - 0s 12ms/step - loss: 128790773.7143 - mae: 10577.7653 - val_loss: 127362109792059392.0000 - val_mae: 57158700.0000\n",
            "Epoch 4/200\n",
            "6/6 [==============================] - 0s 11ms/step - loss: 133201069.7143 - mae: 10687.2736 - val_loss: 307540858352173056.0000 - val_mae: 88813680.0000\n",
            "Epoch 5/200\n",
            "6/6 [==============================] - 0s 11ms/step - loss: 147095888.0000 - mae: 11118.8444 - val_loss: 619138433574502400.0000 - val_mae: 126009800.0000\n",
            "Epoch 6/200\n",
            "6/6 [==============================] - 0s 11ms/step - loss: 131945325.7143 - mae: 10691.1144 - val_loss: 1133905451004461056.0000 - val_mae: 170524848.0000\n",
            "Epoch 7/200\n",
            "6/6 [==============================] - 0s 11ms/step - loss: 134231588.5714 - mae: 10707.2507 - val_loss: 1889347592295284736.0000 - val_mae: 220114176.0000\n",
            "Epoch 8/200\n",
            "6/6 [==============================] - 0s 13ms/step - loss: 121078787.4286 - mae: 10303.7434 - val_loss: 2984096548016619520.0000 - val_mae: 276626304.0000\n",
            "Epoch 9/200\n",
            "6/6 [==============================] - 0s 12ms/step - loss: 126172057.1429 - mae: 10428.5066 - val_loss: 4432794651954511872.0000 - val_mae: 337149312.0000\n",
            "Epoch 10/200\n",
            "6/6 [==============================] - 0s 11ms/step - loss: 126713393.1429 - mae: 10471.6317 - val_loss: 6436303024733290496.0000 - val_mae: 406255264.0000\n",
            "Epoch 11/200\n",
            "6/6 [==============================] - 0s 13ms/step - loss: 131630115.4286 - mae: 10571.3294 - val_loss: 9054789416526020608.0000 - val_mae: 481856576.0000\n",
            "Epoch 12/200\n",
            "6/6 [==============================] - 0s 13ms/step - loss: 126418018.2857 - mae: 10460.1832 - val_loss: 12317576977811767296.0000 - val_mae: 562004288.0000\n",
            "Epoch 13/200\n",
            "6/6 [==============================] - 0s 12ms/step - loss: 135448964.5714 - mae: 10752.9195 - val_loss: 16454968864388677632.0000 - val_mae: 649567424.0000\n",
            "Epoch 14/200\n",
            "6/6 [==============================] - 0s 11ms/step - loss: 116504849.1429 - mae: 10033.4554 - val_loss: 21503612898322153472.0000 - val_mae: 742557952.0000\n",
            "Epoch 15/200\n",
            "6/6 [==============================] - 0s 11ms/step - loss: 114400004.5714 - mae: 10000.9586 - val_loss: 27730098867906019328.0000 - val_mae: 843236608.0000\n",
            "Epoch 16/200\n",
            "6/6 [==============================] - 0s 11ms/step - loss: 114771690.2857 - mae: 10112.5506 - val_loss: 35214133669572640768.0000 - val_mae: 950236096.0000\n",
            "Epoch 17/200\n",
            "6/6 [==============================] - 0s 13ms/step - loss: 104973365.7143 - mae: 9666.1996 - val_loss: 44591344975339323392.0000 - val_mae: 1069295232.0000\n",
            "Epoch 18/200\n",
            "6/6 [==============================] - 0s 14ms/step - loss: 115883032.0000 - mae: 10012.4625 - val_loss: 55415856630887088128.0000 - val_mae: 1192034560.0000\n",
            "Epoch 19/200\n",
            "6/6 [==============================] - 0s 11ms/step - loss: 96692121.7143 - mae: 9159.4869 - val_loss: 68317838332512960512.0000 - val_mae: 1323544064.0000\n",
            "Epoch 20/200\n",
            "6/6 [==============================] - 0s 12ms/step - loss: 109113988.5714 - mae: 9695.3722 - val_loss: 83172944111208497152.0000 - val_mae: 1460366848.0000\n",
            "Epoch 21/200\n",
            "6/6 [==============================] - 0s 12ms/step - loss: 108346643.4286 - mae: 9532.8188 - val_loss: 100368391175950827520.0000 - val_mae: 1604239104.0000\n",
            "Epoch 22/200\n",
            "6/6 [==============================] - 0s 13ms/step - loss: 92838350.8571 - mae: 9017.2637 - val_loss: 121209132703142641664.0000 - val_mae: 1762941696.0000\n",
            "Epoch 23/200\n",
            "6/6 [==============================] - 0s 11ms/step - loss: 86725036.5714 - mae: 8784.9916 - val_loss: 144098273188974166016.0000 - val_mae: 1922203392.0000\n",
            "Epoch 24/200\n",
            "6/6 [==============================] - 0s 11ms/step - loss: 85133753.1429 - mae: 8638.5516 - val_loss: 170362817615054766080.0000 - val_mae: 2090052224.0000\n",
            "Epoch 25/200\n",
            "6/6 [==============================] - 0s 12ms/step - loss: 80192561.1429 - mae: 8430.7283 - val_loss: 198959778047369150464.0000 - val_mae: 2258667008.0000\n",
            "Epoch 26/200\n",
            "6/6 [==============================] - 0s 11ms/step - loss: 81672000.0000 - mae: 8270.6611 - val_loss: 231238272845384515584.0000 - val_mae: 2435001344.0000\n",
            "Epoch 27/200\n",
            "6/6 [==============================] - 0s 11ms/step - loss: 78491121.1429 - mae: 8294.0944 - val_loss: 267545079180408389632.0000 - val_mae: 2619194112.0000\n",
            "Epoch 28/200\n",
            "6/6 [==============================] - 0s 12ms/step - loss: 73674876.5714 - mae: 7928.1521 - val_loss: 307154572154666745856.0000 - val_mae: 2806386688.0000\n",
            "Epoch 29/200\n",
            "6/6 [==============================] - 0s 14ms/step - loss: 61626797.7143 - mae: 7315.6641 - val_loss: 353695157732006428672.0000 - val_mae: 3011503872.0000\n",
            "Epoch 30/200\n",
            "6/6 [==============================] - 0s 13ms/step - loss: 57224054.2857 - mae: 7017.5771 - val_loss: 402420129866109157376.0000 - val_mae: 3212244480.0000\n",
            "Epoch 31/200\n",
            "6/6 [==============================] - 0s 12ms/step - loss: 51580886.8571 - mae: 6575.7346 - val_loss: 456782940230610059264.0000 - val_mae: 3422343424.0000\n",
            "Epoch 32/200\n",
            "6/6 [==============================] - 0s 13ms/step - loss: 50381649.1429 - mae: 6462.5119 - val_loss: 516302125877845557248.0000 - val_mae: 3638484480.0000\n",
            "Epoch 33/200\n",
            "6/6 [==============================] - 0s 12ms/step - loss: 44945338.8571 - mae: 5869.2762 - val_loss: 580528945326194688000.0000 - val_mae: 3858161408.0000\n",
            "Epoch 34/200\n",
            "6/6 [==============================] - 0s 13ms/step - loss: 38281585.1429 - mae: 5387.1144 - val_loss: 649382896732318203904.0000 - val_mae: 4080550400.0000\n",
            "Epoch 35/200\n",
            "6/6 [==============================] - 0s 11ms/step - loss: 33848754.5714 - mae: 4979.3495 - val_loss: 721380044018997526528.0000 - val_mae: 4300810752.0000\n",
            "Epoch 36/200\n",
            "6/6 [==============================] - 0s 13ms/step - loss: 35790394.8571 - mae: 5098.4490 - val_loss: 794379171854022606848.0000 - val_mae: 4513174528.0000\n",
            "Epoch 37/200\n",
            "6/6 [==============================] - 0s 12ms/step - loss: 31400514.0000 - mae: 4760.6183 - val_loss: 873038902208187334656.0000 - val_mae: 4731348480.0000\n",
            "Epoch 38/200\n",
            "6/6 [==============================] - 0s 11ms/step - loss: 27160317.1429 - mae: 4262.1451 - val_loss: 952743889888367083520.0000 - val_mae: 4942607872.0000\n",
            "Epoch 39/200\n",
            "6/6 [==============================] - 0s 12ms/step - loss: 26788380.2857 - mae: 4418.5177 - val_loss: 1035982092213707341824.0000 - val_mae: 5153996800.0000\n",
            "Epoch 40/200\n",
            "6/6 [==============================] - 0s 12ms/step - loss: 24102287.7143 - mae: 4172.0168 - val_loss: 1108251214696633335808.0000 - val_mae: 5330735104.0000\n",
            "Epoch 41/200\n",
            "6/6 [==============================] - 0s 12ms/step - loss: 19987493.4286 - mae: 3723.3085 - val_loss: 1183947083914779033600.0000 - val_mae: 5509778432.0000\n",
            "Epoch 42/200\n",
            "6/6 [==============================] - 0s 11ms/step - loss: 18244488.8571 - mae: 3532.7635 - val_loss: 1244899645696541458432.0000 - val_mae: 5649826304.0000\n",
            "Epoch 43/200\n",
            "6/6 [==============================] - 0s 12ms/step - loss: 16728216.8571 - mae: 3414.0054 - val_loss: 1300568781427956514816.0000 - val_mae: 5774768640.0000\n",
            "Epoch 44/200\n",
            "6/6 [==============================] - 0s 12ms/step - loss: 20077886.0000 - mae: 3691.9884 - val_loss: 1351208381538017214464.0000 - val_mae: 5886119424.0000\n",
            "Epoch 45/200\n",
            "6/6 [==============================] - 0s 12ms/step - loss: 15148986.1429 - mae: 3189.5589 - val_loss: 1399073764277617688576.0000 - val_mae: 5989467136.0000\n",
            "Epoch 46/200\n",
            "6/6 [==============================] - 0s 11ms/step - loss: 15379091.8571 - mae: 3271.1691 - val_loss: 1455931709573170200576.0000 - val_mae: 6109960192.0000\n",
            "Epoch 47/200\n",
            "6/6 [==============================] - 0s 11ms/step - loss: 15304477.5714 - mae: 3177.1509 - val_loss: 1498698876797098917888.0000 - val_mae: 6199049216.0000\n",
            "Epoch 48/200\n",
            "6/6 [==============================] - 0s 11ms/step - loss: 13928076.7143 - mae: 3068.0049 - val_loss: 1552545462054312476672.0000 - val_mae: 6309428736.0000\n",
            "Epoch 49/200\n",
            "6/6 [==============================] - 0s 12ms/step - loss: 13866792.0000 - mae: 3011.6496 - val_loss: 1600641232062350622720.0000 - val_mae: 6406411776.0000\n",
            "Epoch 50/200\n",
            "6/6 [==============================] - 0s 14ms/step - loss: 12162534.2857 - mae: 2905.7962 - val_loss: 1626286839402923556864.0000 - val_mae: 6457529856.0000\n",
            "Epoch 51/200\n",
            "6/6 [==============================] - 0s 11ms/step - loss: 12716102.1429 - mae: 3003.3242 - val_loss: 1669809203989366964224.0000 - val_mae: 6543367168.0000\n",
            "Epoch 52/200\n",
            "6/6 [==============================] - 0s 12ms/step - loss: 11849962.0000 - mae: 2876.8531 - val_loss: 1710601964989158785024.0000 - val_mae: 6622811136.0000\n",
            "Epoch 53/200\n",
            "6/6 [==============================] - 0s 12ms/step - loss: 12202472.1429 - mae: 2894.7326 - val_loss: 1715636989372558999552.0000 - val_mae: 6632550400.0000\n",
            "Epoch 54/200\n",
            "6/6 [==============================] - 0s 12ms/step - loss: 9278915.1429 - mae: 2484.5244 - val_loss: 1766846154097993711616.0000 - val_mae: 6730808320.0000\n",
            "Epoch 55/200\n",
            "6/6 [==============================] - 0s 14ms/step - loss: 9010506.3571 - mae: 2446.3772 - val_loss: 1805555578057661612032.0000 - val_mae: 6804140544.0000\n",
            "Epoch 56/200\n",
            "6/6 [==============================] - 0s 12ms/step - loss: 7907816.1429 - mae: 2304.1048 - val_loss: 1837683272636904243200.0000 - val_mae: 6864409600.0000\n",
            "Epoch 57/200\n",
            "6/6 [==============================] - 0s 11ms/step - loss: 8724602.3571 - mae: 2455.8500 - val_loss: 1852229617958334234624.0000 - val_mae: 6891524096.0000\n",
            "Epoch 58/200\n",
            "6/6 [==============================] - 0s 12ms/step - loss: 8214264.4286 - mae: 2287.6970 - val_loss: 1855411974045024911360.0000 - val_mae: 6897441280.0000\n",
            "Epoch 59/200\n",
            "6/6 [==============================] - 0s 12ms/step - loss: 8369188.2857 - mae: 2336.1519 - val_loss: 1880504764531338117120.0000 - val_mae: 6943925760.0000\n",
            "Epoch 60/200\n",
            "6/6 [==============================] - 0s 12ms/step - loss: 7682547.2143 - mae: 2245.8382 - val_loss: 1924241753787523399680.0000 - val_mae: 7024212480.0000\n",
            "Epoch 61/200\n",
            "6/6 [==============================] - 0s 11ms/step - loss: 6210911.6429 - mae: 2056.8900 - val_loss: 1954941948022377938944.0000 - val_mae: 7080023552.0000\n",
            "Epoch 62/200\n",
            "6/6 [==============================] - 0s 12ms/step - loss: 7598536.4286 - mae: 2208.9458 - val_loss: 1961854129025461518336.0000 - val_mae: 7092529664.0000\n",
            "Epoch 63/200\n",
            "6/6 [==============================] - 0s 13ms/step - loss: 6743829.2857 - mae: 2050.6279 - val_loss: 1972759736260627529728.0000 - val_mae: 7112215552.0000\n",
            "Epoch 64/200\n",
            "6/6 [==============================] - 0s 14ms/step - loss: 6418034.2143 - mae: 1974.9196 - val_loss: 1976384148798242291712.0000 - val_mae: 7118745600.0000\n",
            "Epoch 65/200\n",
            "6/6 [==============================] - 0s 12ms/step - loss: 5993648.9286 - mae: 1959.9903 - val_loss: 1994549136420264476672.0000 - val_mae: 7151385088.0000\n",
            "Epoch 66/200\n",
            "6/6 [==============================] - 0s 12ms/step - loss: 5638831.3571 - mae: 1860.3569 - val_loss: 2031746476805042733056.0000 - val_mae: 7217761792.0000\n",
            "Epoch 67/200\n",
            "6/6 [==============================] - 0s 11ms/step - loss: 5499616.7143 - mae: 1840.7128 - val_loss: 2059205768158050779136.0000 - val_mae: 7266373120.0000\n",
            "Epoch 68/200\n",
            "6/6 [==============================] - 0s 12ms/step - loss: 4577133.6964 - mae: 1654.1007 - val_loss: 2067331950735687417856.0000 - val_mae: 7280695808.0000\n",
            "Epoch 69/200\n",
            "6/6 [==============================] - 0s 12ms/step - loss: 5853929.2857 - mae: 1886.7935 - val_loss: 2063534149612418891776.0000 - val_mae: 7274005504.0000\n",
            "Epoch 70/200\n",
            "6/6 [==============================] - 0s 13ms/step - loss: 5164886.1429 - mae: 1758.5113 - val_loss: 2104912237826280521728.0000 - val_mae: 7346572800.0000\n",
            "Epoch 71/200\n",
            "6/6 [==============================] - 0s 11ms/step - loss: 4042463.3929 - mae: 1583.9921 - val_loss: 2101573522390027075584.0000 - val_mae: 7340744704.0000\n",
            "Epoch 72/200\n",
            "6/6 [==============================] - 0s 11ms/step - loss: 4725877.4286 - mae: 1662.3461 - val_loss: 2110721177658146684928.0000 - val_mae: 7356703232.0000\n",
            "Epoch 73/200\n",
            "6/6 [==============================] - 0s 13ms/step - loss: 4783682.5000 - mae: 1624.1881 - val_loss: 2123610902004146110464.0000 - val_mae: 7379131904.0000\n",
            "Epoch 74/200\n",
            "6/6 [==============================] - 0s 13ms/step - loss: 3634702.2143 - mae: 1502.3894 - val_loss: 2162133426579278135296.0000 - val_mae: 7445760000.0000\n",
            "Epoch 75/200\n",
            "6/6 [==============================] - 0s 13ms/step - loss: 2991542.3393 - mae: 1364.4188 - val_loss: 2187144730059833606144.0000 - val_mae: 7488701952.0000\n",
            "Epoch 76/200\n",
            "6/6 [==============================] - 0s 12ms/step - loss: 3600117.2500 - mae: 1489.1712 - val_loss: 2208141918897518411776.0000 - val_mae: 7524562944.0000\n",
            "Epoch 77/200\n",
            "6/6 [==============================] - 0s 13ms/step - loss: 3448821.1071 - mae: 1406.6096 - val_loss: 2214426832915002294272.0000 - val_mae: 7535263744.0000\n",
            "Epoch 78/200\n",
            "6/6 [==============================] - 0s 12ms/step - loss: 3263465.4286 - mae: 1392.3994 - val_loss: 2228011518978500329472.0000 - val_mae: 7558341632.0000\n",
            "Epoch 79/200\n",
            "6/6 [==============================] - 0s 12ms/step - loss: 3452930.0000 - mae: 1414.5299 - val_loss: 2250907819484051931136.0000 - val_mae: 7597079552.0000\n",
            "Epoch 80/200\n",
            "6/6 [==============================] - 0s 12ms/step - loss: 2606264.4464 - mae: 1276.2774 - val_loss: 2285851811942773030912.0000 - val_mae: 7655822336.0000\n",
            "Epoch 81/200\n",
            "6/6 [==============================] - 0s 13ms/step - loss: 3430509.2857 - mae: 1437.7947 - val_loss: 2263214046203330166784.0000 - val_mae: 7617818112.0000\n",
            "Epoch 82/200\n",
            "6/6 [==============================] - 0s 12ms/step - loss: 3136079.0000 - mae: 1373.3562 - val_loss: 2249410091132974530560.0000 - val_mae: 7594551296.0000\n",
            "Epoch 83/200\n",
            "6/6 [==============================] - 0s 11ms/step - loss: 2652050.7500 - mae: 1249.9598 - val_loss: 2299541628910072496128.0000 - val_mae: 7678712832.0000\n",
            "Epoch 84/200\n",
            "6/6 [==============================] - 0s 13ms/step - loss: 2954808.9286 - mae: 1279.6966 - val_loss: 2291492992688519643136.0000 - val_mae: 7665262592.0000\n",
            "Epoch 85/200\n",
            "6/6 [==============================] - 0s 12ms/step - loss: 2683168.2143 - mae: 1280.7946 - val_loss: 2321428278674162974720.0000 - val_mae: 7715168256.0000\n",
            "Epoch 86/200\n",
            "6/6 [==============================] - 0s 12ms/step - loss: 2659299.1429 - mae: 1238.2733 - val_loss: 2335799828035055648768.0000 - val_mae: 7739013632.0000\n",
            "Epoch 87/200\n",
            "6/6 [==============================] - 0s 11ms/step - loss: 3007285.2857 - mae: 1247.1015 - val_loss: 2310770932368455761920.0000 - val_mae: 7697438208.0000\n",
            "Epoch 88/200\n",
            "6/6 [==============================] - 0s 12ms/step - loss: 2137945.8929 - mae: 1128.7957 - val_loss: 2360690378750602248192.0000 - val_mae: 7780137984.0000\n",
            "Epoch 89/200\n",
            "6/6 [==============================] - 0s 13ms/step - loss: 2603289.6071 - mae: 1229.9732 - val_loss: 2387703250790547193856.0000 - val_mae: 7824524288.0000\n",
            "Epoch 90/200\n",
            "6/6 [==============================] - 0s 14ms/step - loss: 2093518.1964 - mae: 1114.2842 - val_loss: 2369191204522240770048.0000 - val_mae: 7794133504.0000\n",
            "Epoch 91/200\n",
            "6/6 [==============================] - 0s 14ms/step - loss: 2401251.9286 - mae: 1143.0625 - val_loss: 2352857070886233047040.0000 - val_mae: 7767219200.0000\n",
            "Epoch 92/200\n",
            "6/6 [==============================] - 0s 11ms/step - loss: 2250211.3393 - mae: 1141.9051 - val_loss: 2369161086699732729856.0000 - val_mae: 7794083840.0000\n",
            "Epoch 93/200\n",
            "6/6 [==============================] - 0s 12ms/step - loss: 2941225.5357 - mae: 1304.5684 - val_loss: 2367635492325960974336.0000 - val_mae: 7791574016.0000\n",
            "Epoch 94/200\n",
            "6/6 [==============================] - 0s 12ms/step - loss: 2147102.5000 - mae: 1101.1986 - val_loss: 2389497372292100915200.0000 - val_mae: 7827463680.0000\n",
            "Epoch 95/200\n",
            "6/6 [==============================] - 0s 13ms/step - loss: 2369342.2679 - mae: 1108.1036 - val_loss: 2395923446010405191680.0000 - val_mae: 7837982208.0000\n",
            "Epoch 96/200\n",
            "6/6 [==============================] - 0s 12ms/step - loss: 2709046.2500 - mae: 1183.7887 - val_loss: 2459056031486791647232.0000 - val_mae: 7940576256.0000\n",
            "Epoch 97/200\n",
            "6/6 [==============================] - 0s 12ms/step - loss: 2618449.3214 - mae: 1241.6800 - val_loss: 2418524760740364025856.0000 - val_mae: 7874863616.0000\n",
            "Epoch 98/200\n",
            "6/6 [==============================] - 0s 11ms/step - loss: 2060331.0536 - mae: 1112.7599 - val_loss: 2440726381003393728512.0000 - val_mae: 7910926336.0000\n",
            "Epoch 99/200\n",
            "6/6 [==============================] - 0s 13ms/step - loss: 2094442.5536 - mae: 1119.2206 - val_loss: 2487194240483625795584.0000 - val_mae: 7985877504.0000\n",
            "Epoch 100/200\n",
            "6/6 [==============================] - 0s 12ms/step - loss: 1775010.3929 - mae: 1049.8119 - val_loss: 2496211572837528371200.0000 - val_mae: 8000340992.0000\n",
            "Epoch 101/200\n",
            "6/6 [==============================] - 0s 12ms/step - loss: 1952989.8750 - mae: 1030.5786 - val_loss: 2473794905692291727360.0000 - val_mae: 7964337152.0000\n",
            "Epoch 102/200\n",
            "6/6 [==============================] - 0s 12ms/step - loss: 2291285.7500 - mae: 1119.0565 - val_loss: 2460539123139080093696.0000 - val_mae: 7942969856.0000\n",
            "Epoch 103/200\n",
            "6/6 [==============================] - 0s 13ms/step - loss: 2461477.5179 - mae: 1183.7583 - val_loss: 2469468353825272233984.0000 - val_mae: 7957369344.0000\n",
            "Epoch 104/200\n",
            "6/6 [==============================] - 0s 14ms/step - loss: 2372020.8036 - mae: 1149.3150 - val_loss: 2466041114508843286528.0000 - val_mae: 7951845888.0000\n",
            "Epoch 105/200\n",
            "6/6 [==============================] - 0s 11ms/step - loss: 1968052.4107 - mae: 1067.6720 - val_loss: 2524770868399521660928.0000 - val_mae: 8045976576.0000\n",
            "Epoch 106/200\n",
            "6/6 [==============================] - 0s 12ms/step - loss: 2188163.1786 - mae: 1085.6030 - val_loss: 2478147353257168601088.0000 - val_mae: 7971340288.0000\n",
            "Epoch 107/200\n",
            "6/6 [==============================] - 0s 11ms/step - loss: 1670892.9107 - mae: 980.7673 - val_loss: 2486937253829888966656.0000 - val_mae: 7985464832.0000\n",
            "Epoch 108/200\n",
            "6/6 [==============================] - 0s 13ms/step - loss: 1429288.3750 - mae: 926.4943 - val_loss: 2523453284033539080192.0000 - val_mae: 8043876864.0000\n",
            "Epoch 109/200\n",
            "6/6 [==============================] - 0s 13ms/step - loss: 2175141.6607 - mae: 1061.3005 - val_loss: 2491992825886589059072.0000 - val_mae: 7993576960.0000\n",
            "Epoch 110/200\n",
            "6/6 [==============================] - 0s 12ms/step - loss: 1579584.0268 - mae: 922.2422 - val_loss: 2534993195128722554880.0000 - val_mae: 8062248960.0000\n",
            "Epoch 111/200\n",
            "6/6 [==============================] - 0s 11ms/step - loss: 1381523.8750 - mae: 894.9080 - val_loss: 2512783975041321664512.0000 - val_mae: 8026854400.0000\n",
            "Epoch 112/200\n",
            "6/6 [==============================] - 0s 12ms/step - loss: 2251170.5893 - mae: 1090.8654 - val_loss: 2548431654941819404288.0000 - val_mae: 8083590144.0000\n",
            "Epoch 113/200\n",
            "6/6 [==============================] - 0s 13ms/step - loss: 1640865.3750 - mae: 995.0267 - val_loss: 2521432293700756570112.0000 - val_mae: 8040655360.0000\n",
            "Epoch 114/200\n",
            "6/6 [==============================] - 0s 12ms/step - loss: 1685513.3929 - mae: 952.7521 - val_loss: 2513099789965191020544.0000 - val_mae: 8027358208.0000\n",
            "Epoch 115/200\n",
            "6/6 [==============================] - 0s 11ms/step - loss: 2112291.7857 - mae: 1044.1472 - val_loss: 2535010083627325194240.0000 - val_mae: 8062275584.0000\n",
            "Epoch 116/200\n",
            "6/6 [==============================] - 0s 12ms/step - loss: 1751470.0179 - mae: 914.6224 - val_loss: 2525972766550076162048.0000 - val_mae: 8047891456.0000\n",
            "Epoch 117/200\n",
            "6/6 [==============================] - 0s 15ms/step - loss: 1810778.1429 - mae: 1017.7369 - val_loss: 2562276001671333019648.0000 - val_mae: 8105517568.0000\n",
            "Epoch 118/200\n",
            "6/6 [==============================] - 0s 12ms/step - loss: 2083602.0714 - mae: 1065.6156 - val_loss: 2567834569511415054336.0000 - val_mae: 8114304512.0000\n",
            "Epoch 119/200\n",
            "6/6 [==============================] - 0s 12ms/step - loss: 1660711.5000 - mae: 962.5661 - val_loss: 2570747272570416922624.0000 - val_mae: 8118905344.0000\n",
            "Epoch 120/200\n",
            "6/6 [==============================] - 0s 12ms/step - loss: 1325706.5536 - mae: 869.3133 - val_loss: 2606051552999327662080.0000 - val_mae: 8174464000.0000\n",
            "Epoch 121/200\n",
            "6/6 [==============================] - 0s 14ms/step - loss: 1371531.1607 - mae: 914.8130 - val_loss: 2580759056017038245888.0000 - val_mae: 8134699520.0000\n",
            "Epoch 122/200\n",
            "6/6 [==============================] - 0s 12ms/step - loss: 1704518.6250 - mae: 1009.0676 - val_loss: 2541959700802311290880.0000 - val_mae: 8073319424.0000\n",
            "Epoch 123/200\n",
            "6/6 [==============================] - 0s 13ms/step - loss: 2079243.4643 - mae: 1049.2169 - val_loss: 2585684305159521304576.0000 - val_mae: 8142458368.0000\n",
            "Epoch 124/200\n",
            "6/6 [==============================] - 0s 13ms/step - loss: 1746425.0000 - mae: 981.0288 - val_loss: 2584502391732313260032.0000 - val_mae: 8140597248.0000\n",
            "Epoch 125/200\n",
            "6/6 [==============================] - 0s 14ms/step - loss: 1727369.7500 - mae: 960.9080 - val_loss: 2552514730953984180224.0000 - val_mae: 8090062848.0000\n",
            "Epoch 126/200\n",
            "6/6 [==============================] - 0s 12ms/step - loss: 1252525.2946 - mae: 862.9501 - val_loss: 2631408789226260529152.0000 - val_mae: 8214136832.0000\n",
            "Epoch 127/200\n",
            "6/6 [==============================] - 0s 11ms/step - loss: 1724812.7321 - mae: 887.7873 - val_loss: 2603257913855474401280.0000 - val_mae: 8170081792.0000\n",
            "Epoch 128/200\n",
            "6/6 [==============================] - 0s 11ms/step - loss: 1725484.7143 - mae: 984.3746 - val_loss: 2652861686051239886848.0000 - val_mae: 8247552512.0000\n",
            "Epoch 129/200\n",
            "6/6 [==============================] - 0s 13ms/step - loss: 1507933.8929 - mae: 909.1337 - val_loss: 2626946284945489788928.0000 - val_mae: 8207169024.0000\n",
            "Epoch 130/200\n",
            "6/6 [==============================] - 0s 12ms/step - loss: 1407740.8036 - mae: 908.7831 - val_loss: 2589018376258659024896.0000 - val_mae: 8147705856.0000\n",
            "Epoch 131/200\n",
            "6/6 [==============================] - 0s 13ms/step - loss: 1537636.3036 - mae: 888.1296 - val_loss: 2608839281168669999104.0000 - val_mae: 8178834944.0000\n",
            "Epoch 132/200\n",
            "6/6 [==============================] - 0s 12ms/step - loss: 1759492.9107 - mae: 933.0262 - val_loss: 2640622028163953721344.0000 - val_mae: 8228504576.0000\n",
            "Epoch 133/200\n",
            "6/6 [==============================] - 0s 11ms/step - loss: 1863635.7143 - mae: 1029.5574 - val_loss: 2638148989018573897728.0000 - val_mae: 8224650240.0000\n",
            "Epoch 134/200\n",
            "6/6 [==============================] - 0s 11ms/step - loss: 1493888.5179 - mae: 889.4380 - val_loss: 2634439711775480872960.0000 - val_mae: 8218866176.0000\n",
            "Epoch 135/200\n",
            "6/6 [==============================] - 0s 11ms/step - loss: 1401177.0893 - mae: 899.1942 - val_loss: 2668031216971107270656.0000 - val_mae: 8271099392.0000\n",
            "Epoch 136/200\n",
            "6/6 [==============================] - 0s 13ms/step - loss: 1337457.5000 - mae: 915.7067 - val_loss: 2683721476597889368064.0000 - val_mae: 8295384064.0000\n",
            "Epoch 137/200\n",
            "6/6 [==============================] - 0s 13ms/step - loss: 1397262.9464 - mae: 861.3462 - val_loss: 2651452340842849632256.0000 - val_mae: 8245361664.0000\n",
            "Epoch 138/200\n",
            "6/6 [==============================] - 0s 12ms/step - loss: 1191970.5089 - mae: 852.8200 - val_loss: 2688152174206291804160.0000 - val_mae: 8302228992.0000\n",
            "Epoch 139/200\n",
            "6/6 [==============================] - 0s 11ms/step - loss: 1395819.2143 - mae: 884.9577 - val_loss: 2672422226607793504256.0000 - val_mae: 8277902336.0000\n",
            "Epoch 140/200\n",
            "6/6 [==============================] - 0s 12ms/step - loss: 1417028.8214 - mae: 902.6552 - val_loss: 2643401593558971449344.0000 - val_mae: 8232834048.0000\n",
            "Epoch 141/200\n",
            "6/6 [==============================] - 0s 14ms/step - loss: 1282060.0714 - mae: 863.7027 - val_loss: 2677206738261921234944.0000 - val_mae: 8285309952.0000\n",
            "Epoch 142/200\n",
            "6/6 [==============================] - 0s 14ms/step - loss: 1352252.5893 - mae: 849.7332 - val_loss: 2641266042910667702272.0000 - val_mae: 8229507584.0000\n",
            "Epoch 143/200\n",
            "6/6 [==============================] - 0s 12ms/step - loss: 1349930.6250 - mae: 831.0253 - val_loss: 2667921441730190114816.0000 - val_mae: 8270928896.0000\n",
            "Epoch 144/200\n",
            "6/6 [==============================] - 0s 12ms/step - loss: 1527906.2143 - mae: 948.7723 - val_loss: 2660905114985723592704.0000 - val_mae: 8260046336.0000\n",
            "Epoch 145/200\n",
            "6/6 [==============================] - 0s 12ms/step - loss: 1335561.5446 - mae: 837.2660 - val_loss: 2693859079359100354560.0000 - val_mae: 8311036928.0000\n",
            "Epoch 146/200\n",
            "6/6 [==============================] - 0s 12ms/step - loss: 1344834.2143 - mae: 861.3486 - val_loss: 2664008376603958575104.0000 - val_mae: 8264861696.0000\n",
            "Epoch 147/200\n",
            "6/6 [==============================] - 0s 13ms/step - loss: 1614842.7679 - mae: 903.8322 - val_loss: 2680326043953828724736.0000 - val_mae: 8290135040.0000\n",
            "Epoch 148/200\n",
            "6/6 [==============================] - 0s 12ms/step - loss: 1445852.5179 - mae: 871.6908 - val_loss: 2682857911369341075456.0000 - val_mae: 8294049792.0000\n",
            "Epoch 149/200\n",
            "6/6 [==============================] - 0s 11ms/step - loss: 1133610.5446 - mae: 795.9940 - val_loss: 2691561399124211269632.0000 - val_mae: 8307491840.0000\n",
            "Epoch 150/200\n",
            "6/6 [==============================] - 0s 12ms/step - loss: 1356650.6250 - mae: 853.2859 - val_loss: 2706538682634985275392.0000 - val_mae: 8330573312.0000\n",
            "Epoch 151/200\n",
            "6/6 [==============================] - 0s 14ms/step - loss: 1303468.4643 - mae: 787.4391 - val_loss: 2725206103090435981312.0000 - val_mae: 8359252992.0000\n",
            "Epoch 152/200\n",
            "6/6 [==============================] - 0s 11ms/step - loss: 1131729.6071 - mae: 794.2261 - val_loss: 2731491157845408219136.0000 - val_mae: 8368886784.0000\n",
            "Epoch 153/200\n",
            "6/6 [==============================] - 0s 12ms/step - loss: 1078407.0804 - mae: 744.0796 - val_loss: 2779437042428347940864.0000 - val_mae: 8442016256.0000\n",
            "Epoch 154/200\n",
            "6/6 [==============================] - 0s 13ms/step - loss: 1055281.9732 - mae: 772.9711 - val_loss: 2727506598075092172800.0000 - val_mae: 8362780160.0000\n",
            "Epoch 155/200\n",
            "6/6 [==============================] - 0s 13ms/step - loss: 1316917.0446 - mae: 836.6008 - val_loss: 2736581069849267011584.0000 - val_mae: 8376680448.0000\n",
            "Epoch 156/200\n",
            "6/6 [==============================] - 0s 13ms/step - loss: 1091248.6384 - mae: 755.2787 - val_loss: 2733550147300046667776.0000 - val_mae: 8372040192.0000\n",
            "Epoch 157/200\n",
            "6/6 [==============================] - 0s 11ms/step - loss: 1304716.3929 - mae: 870.5940 - val_loss: 2676322906835049775104.0000 - val_mae: 8283941888.0000\n",
            "Epoch 158/200\n",
            "6/6 [==============================] - 0s 12ms/step - loss: 948966.0357 - mae: 729.8719 - val_loss: 2796204788265978429440.0000 - val_mae: 8467442688.0000\n",
            "Epoch 159/200\n",
            "6/6 [==============================] - 0s 14ms/step - loss: 1193854.7857 - mae: 749.2478 - val_loss: 2793940040603364491264.0000 - val_mae: 8464012800.0000\n",
            "Epoch 160/200\n",
            "6/6 [==============================] - 0s 12ms/step - loss: 1003610.1696 - mae: 739.0845 - val_loss: 2786558640814104248320.0000 - val_mae: 8452825088.0000\n",
            "Epoch 161/200\n",
            "6/6 [==============================] - 0s 11ms/step - loss: 1106470.7411 - mae: 762.6937 - val_loss: 2765823505179737063424.0000 - val_mae: 8421317120.0000\n",
            "Epoch 162/200\n",
            "6/6 [==============================] - 0s 11ms/step - loss: 928879.2411 - mae: 703.3119 - val_loss: 2771629208049371054080.0000 - val_mae: 8430151168.0000\n",
            "Epoch 163/200\n",
            "6/6 [==============================] - 0s 13ms/step - loss: 1126728.5625 - mae: 761.9043 - val_loss: 2760508131719533035520.0000 - val_mae: 8413220864.0000\n",
            "Epoch 164/200\n",
            "6/6 [==============================] - 0s 11ms/step - loss: 1044102.1786 - mae: 776.6338 - val_loss: 2816704329344838795264.0000 - val_mae: 8498424320.0000\n",
            "Epoch 165/200\n",
            "6/6 [==============================] - 0s 12ms/step - loss: 1000417.7679 - mae: 758.9173 - val_loss: 2771241898481417191424.0000 - val_mae: 8429562368.0000\n",
            "Epoch 166/200\n",
            "6/6 [==============================] - 0s 13ms/step - loss: 1015175.3214 - mae: 753.4847 - val_loss: 2760119977726649040896.0000 - val_mae: 8412629504.0000\n",
            "Epoch 167/200\n",
            "6/6 [==============================] - 0s 12ms/step - loss: 1158897.2589 - mae: 797.4890 - val_loss: 2757112699075472392192.0000 - val_mae: 8408045056.0000\n",
            "Epoch 168/200\n",
            "6/6 [==============================] - 0s 13ms/step - loss: 1037476.2411 - mae: 735.5704 - val_loss: 2781251430128224829440.0000 - val_mae: 8444771328.0000\n",
            "Epoch 169/200\n",
            "6/6 [==============================] - 0s 11ms/step - loss: 1332678.2500 - mae: 858.9174 - val_loss: 2780591371307838341120.0000 - val_mae: 8443769344.0000\n",
            "Epoch 170/200\n",
            "6/6 [==============================] - 0s 13ms/step - loss: 1307169.1429 - mae: 824.2971 - val_loss: 2753070718409907372032.0000 - val_mae: 8401880064.0000\n",
            "Epoch 171/200\n",
            "6/6 [==============================] - 0s 13ms/step - loss: 971504.3571 - mae: 717.7276 - val_loss: 2788297593220222681088.0000 - val_mae: 8455462400.0000\n",
            "Epoch 172/200\n",
            "6/6 [==============================] - 0s 12ms/step - loss: 1159938.4732 - mae: 752.5666 - val_loss: 2819183279464729542656.0000 - val_mae: 8502163456.0000\n",
            "Epoch 173/200\n",
            "6/6 [==============================] - 0s 12ms/step - loss: 1108131.1071 - mae: 744.3089 - val_loss: 2854933134781773250560.0000 - val_mae: 8555901440.0000\n",
            "Epoch 174/200\n",
            "6/6 [==============================] - 0s 12ms/step - loss: 1210711.2768 - mae: 790.7391 - val_loss: 2820172945482844209152.0000 - val_mae: 8503655424.0000\n",
            "Epoch 175/200\n",
            "6/6 [==============================] - 0s 12ms/step - loss: 1224178.3482 - mae: 785.9797 - val_loss: 2755885186702037221376.0000 - val_mae: 8406173184.0000\n",
            "Epoch 176/200\n",
            "6/6 [==============================] - 0s 12ms/step - loss: 967010.9732 - mae: 698.4562 - val_loss: 2827850738422580772864.0000 - val_mae: 8515222528.0000\n",
            "Epoch 177/200\n",
            "6/6 [==============================] - 0s 13ms/step - loss: 1045484.8571 - mae: 761.0202 - val_loss: 2824773935452156592128.0000 - val_mae: 8510588928.0000\n",
            "Epoch 178/200\n",
            "6/6 [==============================] - 0s 14ms/step - loss: 1064164.2500 - mae: 760.4533 - val_loss: 2844800598570143055872.0000 - val_mae: 8540704256.0000\n",
            "Epoch 179/200\n",
            "6/6 [==============================] - 0s 13ms/step - loss: 1168974.3125 - mae: 781.0394 - val_loss: 2779664755684506861568.0000 - val_mae: 8442362880.0000\n",
            "Epoch 180/200\n",
            "6/6 [==============================] - 0s 12ms/step - loss: 1048890.1071 - mae: 704.1648 - val_loss: 2849086899515492925440.0000 - val_mae: 8547136000.0000\n",
            "Epoch 181/200\n",
            "6/6 [==============================] - 0s 13ms/step - loss: 1216164.1875 - mae: 735.7437 - val_loss: 2838155537319957889024.0000 - val_mae: 8530723840.0000\n",
            "Epoch 182/200\n",
            "6/6 [==============================] - 0s 12ms/step - loss: 1145930.7768 - mae: 762.2832 - val_loss: 2853689859809642283008.0000 - val_mae: 8554037760.0000\n",
            "Epoch 183/200\n",
            "6/6 [==============================] - 0s 12ms/step - loss: 804173.8839 - mae: 657.5969 - val_loss: 2862632601294716534784.0000 - val_mae: 8567430656.0000\n",
            "Epoch 184/200\n",
            "6/6 [==============================] - 0s 12ms/step - loss: 941171.7143 - mae: 689.4679 - val_loss: 2802837746092165038080.0000 - val_mae: 8477479936.0000\n",
            "Epoch 185/200\n",
            "6/6 [==============================] - 0s 14ms/step - loss: 1107677.7143 - mae: 732.4214 - val_loss: 2852741289138127372288.0000 - val_mae: 8552615936.0000\n",
            "Epoch 186/200\n",
            "6/6 [==============================] - 0s 14ms/step - loss: 1308781.7321 - mae: 844.6139 - val_loss: 2881323665648210935808.0000 - val_mae: 8595354624.0000\n",
            "Epoch 187/200\n",
            "6/6 [==============================] - 0s 11ms/step - loss: 1059420.1875 - mae: 739.5100 - val_loss: 2876502280772134109184.0000 - val_mae: 8588160000.0000\n",
            "Epoch 188/200\n",
            "6/6 [==============================] - 0s 12ms/step - loss: 1126974.6429 - mae: 769.6378 - val_loss: 2881842986980242096128.0000 - val_mae: 8596129792.0000\n",
            "Epoch 189/200\n",
            "6/6 [==============================] - 0s 14ms/step - loss: 853010.9375 - mae: 672.4697 - val_loss: 2858521377784880693248.0000 - val_mae: 8561275904.0000\n",
            "Epoch 190/200\n",
            "6/6 [==============================] - 0s 13ms/step - loss: 845940.6429 - mae: 667.7469 - val_loss: 2911755051280306798592.0000 - val_mae: 8640625664.0000\n",
            "Epoch 191/200\n",
            "6/6 [==============================] - 0s 12ms/step - loss: 1013140.5268 - mae: 698.3382 - val_loss: 2911170709228655476736.0000 - val_mae: 8639758336.0000\n",
            "Epoch 192/200\n",
            "6/6 [==============================] - 0s 12ms/step - loss: 1065687.8304 - mae: 759.7504 - val_loss: 2869790791427445227520.0000 - val_mae: 8578135552.0000\n",
            "Epoch 193/200\n",
            "6/6 [==============================] - 0s 13ms/step - loss: 738567.9375 - mae: 629.5098 - val_loss: 2924589465793382580224.0000 - val_mae: 8659648512.0000\n",
            "Epoch 194/200\n",
            "6/6 [==============================] - 0s 12ms/step - loss: 1143389.6964 - mae: 777.1496 - val_loss: 2896073517377802731520.0000 - val_mae: 8617326592.0000\n",
            "Epoch 195/200\n",
            "6/6 [==============================] - 0s 13ms/step - loss: 799758.3750 - mae: 645.5279 - val_loss: 2956123107434277371904.0000 - val_mae: 8706207744.0000\n",
            "Epoch 196/200\n",
            "6/6 [==============================] - 0s 11ms/step - loss: 836597.0625 - mae: 689.3939 - val_loss: 2887666141298432147456.0000 - val_mae: 8604809216.0000\n",
            "Epoch 197/200\n",
            "6/6 [==============================] - 0s 12ms/step - loss: 894078.9821 - mae: 659.8693 - val_loss: 2920682311641661964288.0000 - val_mae: 8653861888.0000\n",
            "Epoch 198/200\n",
            "6/6 [==============================] - 0s 13ms/step - loss: 843438.7321 - mae: 668.4457 - val_loss: 2921416961330876776448.0000 - val_mae: 8654949376.0000\n",
            "Epoch 199/200\n",
            "6/6 [==============================] - 0s 13ms/step - loss: 948139.4018 - mae: 671.3749 - val_loss: 2938466463620194631680.0000 - val_mae: 8680168448.0000\n",
            "Epoch 200/200\n",
            "6/6 [==============================] - 0s 12ms/step - loss: 725977.6473 - mae: 633.1187 - val_loss: 2930567431348763492352.0000 - val_mae: 8668493824.0000\n"
          ],
          "name": "stdout"
        }
      ]
    },
    {
      "cell_type": "code",
      "metadata": {
        "colab": {
          "base_uri": "https://localhost:8080/"
        },
        "id": "ZMvwmrqx9Fhf",
        "outputId": "a26ddc7d-fd81-4836-ed43-7a0b4d0ccca4"
      },
      "source": [
        "model.summary()"
      ],
      "execution_count": null,
      "outputs": [
        {
          "output_type": "stream",
          "text": [
            "Model: \"sequential_18\"\n",
            "_________________________________________________________________\n",
            "Layer (type)                 Output Shape              Param #   \n",
            "=================================================================\n",
            "dense_72 (Dense)             (None, 256)               9984      \n",
            "_________________________________________________________________\n",
            "dense_73 (Dense)             (None, 128)               32896     \n",
            "_________________________________________________________________\n",
            "dense_74 (Dense)             (None, 16)                2064      \n",
            "_________________________________________________________________\n",
            "dense_75 (Dense)             (None, 1)                 17        \n",
            "=================================================================\n",
            "Total params: 44,961\n",
            "Trainable params: 44,961\n",
            "Non-trainable params: 0\n",
            "_________________________________________________________________\n"
          ],
          "name": "stdout"
        }
      ]
    },
    {
      "cell_type": "code",
      "metadata": {
        "id": "lDSkd5CLEHVC",
        "colab": {
          "base_uri": "https://localhost:8080/"
        },
        "outputId": "4909828d-f308-4056-a4b3-264ed7d9c0e2"
      },
      "source": [
        "hist_dic =history.history\n",
        "hist_dic.keys()"
      ],
      "execution_count": null,
      "outputs": [
        {
          "output_type": "execute_result",
          "data": {
            "text/plain": [
              "dict_keys(['loss', 'mae', 'val_loss', 'val_mae'])"
            ]
          },
          "metadata": {
            "tags": []
          },
          "execution_count": 160
        }
      ]
    },
    {
      "cell_type": "code",
      "metadata": {
        "colab": {
          "base_uri": "https://localhost:8080/",
          "height": 294
        },
        "id": "GL4yPCLPHviL",
        "outputId": "2459051a-64b1-4aae-f465-52afc73d81c2"
      },
      "source": [
        "import matplotlib.pyplot as plt\n",
        "\n",
        "\n",
        "plt.figure()\n",
        "plt.plot(history.history['loss'])\n",
        "plt.plot(history.history['val_loss'])\n",
        "plt.title('model loss')\n",
        "plt.ylabel('loss')\n",
        "plt.xlabel('epoch')\n",
        "plt.legend(['train','val'], loc = 'upper left')\n",
        "plt.show()\n"
      ],
      "execution_count": null,
      "outputs": [
        {
          "output_type": "display_data",
          "data": {
            "image/png": "[encoded data removed]",
            "text/plain": [
              "<Figure size 432x288 with 1 Axes>"
            ]
          },
          "metadata": {
            "tags": [],
            "needs_background": "light"
          }
        }
      ]
    },
    {
      "cell_type": "code",
      "metadata": {
        "colab": {
          "base_uri": "https://localhost:8080/",
          "height": 294
        },
        "id": "f5TptLmNJeAO",
        "outputId": "0da68f5c-286c-4d18-9c29-b842c3c9df04"
      },
      "source": [
        "plt.figure()\n",
        "plt.plot(history.history['mae'])\n",
        "plt.plot(history.history['val_mae'])\n",
        "plt.title('model mean absolute error')\n",
        "plt.ylabel('val_mae')\n",
        "plt.xlabel('epoch')\n",
        "plt.legend(['train','val'], loc = 'upper left')\n",
        "plt.show()"
      ],
      "execution_count": null,
      "outputs": [
        {
          "output_type": "display_data",
          "data": {
            "image/png": "[encoded data removed]",
            "text/plain": [
              "<Figure size 432x288 with 1 Axes>"
            ]
          },
          "metadata": {
            "tags": [],
            "needs_background": "light"
          }
        }
      ]
    }
  ]
}