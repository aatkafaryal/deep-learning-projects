{
  "nbformat": 4,
  "nbformat_minor": 0,
  "metadata": {
    "accelerator": "GPU",
    "colab": {
      "name": "flower recognition coding(as per book method)",
      "provenance": [],
      "collapsed_sections": []
    },
    "kernelspec": {
      "display_name": "Python 3",
      "name": "python3"
    },
    "language_info": {
      "name": "python"
    }
  },
  "cells": [
    {
      "cell_type": "code",
      "metadata": {
        "id": "JlU6AYlHWrUK"
      },
      "source": [
        "import os\n",
        "import numpy as np\n",
        "import matplotlib.pyplot as plt\n",
        "import cv2 as cv\n",
        "import pickle"
      ],
      "execution_count": null,
      "outputs": []
    },
    {
      "cell_type": "code",
      "metadata": {
        "id": "l99EpxslW9TN"
      },
      "source": [
        "data_dir = \"/content/drive/MyDrive/data/flowers\""
      ],
      "execution_count": null,
      "outputs": []
    },
    {
      "cell_type": "code",
      "metadata": {
        "id": "MN0KjzB8XSxK"
      },
      "source": [
        "categories = [\"daisy\",\"dandelion\",\"rose\",\"sunflower\",\"tulip\"]"
      ],
      "execution_count": null,
      "outputs": []
    },
    {
      "cell_type": "code",
      "metadata": {
        "colab": {
          "base_uri": "https://localhost:8080/"
        },
        "id": "SfF6EjZKXmle",
        "outputId": "300591db-c328-44e1-b1b0-7080d1361e6c"
      },
      "source": [
        "data = []\n",
        "def make_data():\n",
        "  for category in categories:\n",
        "    path = os.path.join(data_dir,category)\n",
        "    labels = categories.index(category)\n",
        "    \n",
        "    for img_name in os.listdir(path):\n",
        "      image_path = os.path.join(path,img_name)\n",
        "      image = cv.imread(image_path)\n",
        "      try:\n",
        "        image = cv.cvtColor(image, cv.COLOR_BGR2GRAY)\n",
        "        image = cv.resize(image,(224,224))\n",
        "        image = np.array(image,dtype = np.float32)\n",
        "        data.append([image,labels])\n",
        "      #plt.imshow(image)\n",
        "      #plt.show()\n",
        "      except Exception as e:\n",
        "           pass\n",
        "  print(len(data))\n",
        "    \n",
        "\n",
        "make_data()"
      ],
      "execution_count": null,
      "outputs": [
        {
          "output_type": "stream",
          "text": [
            "4323\n"
          ],
          "name": "stdout"
        }
      ]
    },
    {
      "cell_type": "code",
      "metadata": {
        "id": "BF3GW05MsadG"
      },
      "source": [
        "pik = open(\"data.pickle\",\"wb\")\n",
        "pickle.dump(data,pik)\n",
        "pik.close()\n"
      ],
      "execution_count": null,
      "outputs": []
    },
    {
      "cell_type": "code",
      "metadata": {
        "id": "gNSgNVvpjc9G"
      },
      "source": [
        "def load_data():\n",
        "  pick = open(\"data.pickle\",\"rb\")\n",
        "  data = pickle.load(pick)\n",
        "  pick.close()\n",
        "\n",
        "  np.random.shuffle(data)\n",
        "  feature =[]\n",
        "  labels =[]\n",
        "  \n",
        "  for img,label in data:\n",
        "    feature.append(img)\n",
        "    labels.append(label)\n",
        "  \n",
        "  feature =np.array(feature,dtype =np.float32)\n",
        "  labels = np.array(labels,dtype=np.float32)\n",
        "\n",
        "  \n",
        "\n",
        "  feature= feature /255.0\n",
        "  labels = labels/255.0\n",
        "  return [feature,labels]"
      ],
      "execution_count": null,
      "outputs": []
    },
    {
      "cell_type": "code",
      "metadata": {
        "id": "AFpjgSzreMK4"
      },
      "source": [
        "import tensorflow as tf\n",
        "import numpy as np \n",
        "from keras import models\n",
        "from keras import layers\n",
        "from sklearn.model_selection import train_test_split"
      ],
      "execution_count": null,
      "outputs": []
    },
    {
      "cell_type": "code",
      "metadata": {
        "id": "tBxg-l7CjsLR"
      },
      "source": [
        "(feature,labels) =load_data()"
      ],
      "execution_count": null,
      "outputs": []
    },
    {
      "cell_type": "code",
      "metadata": {
        "id": "7fra3MV4jyzR"
      },
      "source": [
        "x_train,x_test,y_train, y_test =  train_test_split(feature,labels,test_size =0.1)"
      ],
      "execution_count": null,
      "outputs": []
    },
    {
      "cell_type": "code",
      "metadata": {
        "colab": {
          "base_uri": "https://localhost:8080/"
        },
        "id": "xvyTO4OFyZQA",
        "outputId": "5bff8a85-737d-48ff-d5c7-2045780d6b39"
      },
      "source": [
        "x_train.shape"
      ],
      "execution_count": null,
      "outputs": [
        {
          "output_type": "execute_result",
          "data": {
            "text/plain": [
              "(3890, 224, 224)"
            ]
          },
          "metadata": {
            "tags": []
          },
          "execution_count": 207
        }
      ]
    },
    {
      "cell_type": "code",
      "metadata": {
        "colab": {
          "base_uri": "https://localhost:8080/"
        },
        "id": "ki5E-e2i_1Rr",
        "outputId": "28c43049-4c59-40a7-ce21-444299d475de"
      },
      "source": [
        "y_train.shape"
      ],
      "execution_count": null,
      "outputs": [
        {
          "output_type": "execute_result",
          "data": {
            "text/plain": [
              "(3890,)"
            ]
          },
          "metadata": {
            "tags": []
          },
          "execution_count": 208
        }
      ]
    },
    {
      "cell_type": "code",
      "metadata": {
        "colab": {
          "base_uri": "https://localhost:8080/"
        },
        "id": "mMJsjgLk5rL9",
        "outputId": "11eca7ba-2607-4ed5-ac9c-a30d23abed07"
      },
      "source": [
        "x_test.shape"
      ],
      "execution_count": null,
      "outputs": [
        {
          "output_type": "execute_result",
          "data": {
            "text/plain": [
              "(433, 224, 224)"
            ]
          },
          "metadata": {
            "tags": []
          },
          "execution_count": 209
        }
      ]
    },
    {
      "cell_type": "code",
      "metadata": {
        "colab": {
          "base_uri": "https://localhost:8080/"
        },
        "id": "NDSUE-YEH4fl",
        "outputId": "15b2f8e5-6191-4fc0-9916-eafd12ff18c6"
      },
      "source": [
        "y_test.shape"
      ],
      "execution_count": null,
      "outputs": [
        {
          "output_type": "execute_result",
          "data": {
            "text/plain": [
              "(433,)"
            ]
          },
          "metadata": {
            "tags": []
          },
          "execution_count": 210
        }
      ]
    },
    {
      "cell_type": "code",
      "metadata": {
        "id": "i7tyLjESkpV-"
      },
      "source": [
        "categories = [\"daisy\",\"dandelion\",\"rose\",\"sunflower\",\"tulip\"]"
      ],
      "execution_count": null,
      "outputs": []
    },
    {
      "cell_type": "code",
      "metadata": {
        "id": "4ME7MAScyAH3"
      },
      "source": [
        "from keras import models\n",
        "from keras import layers\n",
        "network = models.Sequential()\n",
        "network.add(layers.Dense(512,activation = \"relu\", input_shape=(224*224,)))\n",
        "network.add(layers.Dense(256,activation = \"relu\"))\n",
        "network.add(layers.Dense(5,activation= \"softmax\"))"
      ],
      "execution_count": null,
      "outputs": []
    },
    {
      "cell_type": "code",
      "metadata": {
        "id": "ldqFFtelyNzj"
      },
      "source": [
        "network.compile(optimizer = \"rmsprop\", loss =\"categorical_crossentropy\",\n",
        "                metrics =['accuracy'])"
      ],
      "execution_count": null,
      "outputs": []
    },
    {
      "cell_type": "code",
      "metadata": {
        "colab": {
          "base_uri": "https://localhost:8080/"
        },
        "id": "d-leiOz9zniP",
        "outputId": "2a29ab41-37db-4d0e-d518-f1f19ecf71d7"
      },
      "source": [
        "train_images = x_train.resize((3890,224*224))\n",
        "train_images = x_train.astype(\"float32\")/255\n",
        "\n",
        "test_images =x_test.resize((433,224*224))\n",
        "test_images = x_test.astype(\"float32\")/255\n",
        "\n",
        "\n",
        "print(train_images.shape)\n",
        "print(test_images.shape)\n"
      ],
      "execution_count": null,
      "outputs": [
        {
          "output_type": "stream",
          "text": [
            "(3890, 50176)\n",
            "(433, 50176)\n"
          ],
          "name": "stdout"
        }
      ]
    },
    {
      "cell_type": "code",
      "metadata": {
        "id": "HKrn5FSVXGmi"
      },
      "source": [
        "from sklearn.preprocessing import LabelEncoder\n",
        "y_train = LabelEncoder().fit_transform(y_train)\n",
        "y_test = LabelEncoder().fit_transform(y_test)\n"
      ],
      "execution_count": null,
      "outputs": []
    },
    {
      "cell_type": "code",
      "metadata": {
        "colab": {
          "base_uri": "https://localhost:8080/"
        },
        "id": "5k7o5kXnzwbx",
        "outputId": "fdfc9845-584c-42e7-fb10-8635a32c12e0"
      },
      "source": [
        "from keras.utils import to_categorical\n",
        "train_labels = to_categorical(y_train)\n",
        "test_labels = to_categorical(y_test)\n",
        "print(train_labels.shape)\n",
        "print(test_labels.shape)\n"
      ],
      "execution_count": null,
      "outputs": [
        {
          "output_type": "stream",
          "text": [
            "(3890, 5)\n",
            "(433, 5)\n"
          ],
          "name": "stdout"
        }
      ]
    },
    {
      "cell_type": "code",
      "metadata": {
        "colab": {
          "base_uri": "https://localhost:8080/"
        },
        "id": "Ixp4bAg6zw5R",
        "outputId": "7f205471-4033-4d8f-cf2d-8a2900ef0988"
      },
      "source": [
        "epochs =40\n",
        "history=network.fit(train_images, train_labels, epochs =epochs, batch_size = 128)"
      ],
      "execution_count": null,
      "outputs": [
        {
          "output_type": "stream",
          "text": [
            "Epoch 1/40\n",
            "31/31 [==============================] - 1s 28ms/step - loss: 1.6096 - accuracy: 0.2478\n",
            "Epoch 2/40\n",
            "31/31 [==============================] - 1s 26ms/step - loss: 1.5391 - accuracy: 0.3103\n",
            "Epoch 3/40\n",
            "31/31 [==============================] - 1s 26ms/step - loss: 1.5209 - accuracy: 0.3039\n",
            "Epoch 4/40\n",
            "31/31 [==============================] - 1s 26ms/step - loss: 1.5081 - accuracy: 0.2971\n",
            "Epoch 5/40\n",
            "31/31 [==============================] - 1s 25ms/step - loss: 1.5063 - accuracy: 0.3121\n",
            "Epoch 6/40\n",
            "31/31 [==============================] - 1s 26ms/step - loss: 1.4951 - accuracy: 0.3175\n",
            "Epoch 7/40\n",
            "31/31 [==============================] - 1s 27ms/step - loss: 1.4916 - accuracy: 0.3298\n",
            "Epoch 8/40\n",
            "31/31 [==============================] - 1s 26ms/step - loss: 1.4674 - accuracy: 0.3663\n",
            "Epoch 9/40\n",
            "31/31 [==============================] - 1s 26ms/step - loss: 1.4728 - accuracy: 0.3463\n",
            "Epoch 10/40\n",
            "31/31 [==============================] - 1s 26ms/step - loss: 1.4664 - accuracy: 0.3505\n",
            "Epoch 11/40\n",
            "31/31 [==============================] - 1s 25ms/step - loss: 1.4559 - accuracy: 0.3581\n",
            "Epoch 12/40\n",
            "31/31 [==============================] - 1s 26ms/step - loss: 1.4696 - accuracy: 0.3663\n",
            "Epoch 13/40\n",
            "31/31 [==============================] - 1s 26ms/step - loss: 1.4475 - accuracy: 0.3782\n",
            "Epoch 14/40\n",
            "31/31 [==============================] - 1s 26ms/step - loss: 1.4236 - accuracy: 0.3736\n",
            "Epoch 15/40\n",
            "31/31 [==============================] - 1s 25ms/step - loss: 1.4199 - accuracy: 0.3794\n",
            "Epoch 16/40\n",
            "31/31 [==============================] - 1s 26ms/step - loss: 1.3863 - accuracy: 0.4028\n",
            "Epoch 17/40\n",
            "31/31 [==============================] - 1s 26ms/step - loss: 1.4019 - accuracy: 0.3954\n",
            "Epoch 18/40\n",
            "31/31 [==============================] - 1s 26ms/step - loss: 1.3676 - accuracy: 0.4063\n",
            "Epoch 19/40\n",
            "31/31 [==============================] - 1s 25ms/step - loss: 1.3844 - accuracy: 0.4113\n",
            "Epoch 20/40\n",
            "31/31 [==============================] - 1s 26ms/step - loss: 1.3712 - accuracy: 0.4105\n",
            "Epoch 21/40\n",
            "31/31 [==============================] - 1s 25ms/step - loss: 1.3455 - accuracy: 0.4424\n",
            "Epoch 22/40\n",
            "31/31 [==============================] - 1s 25ms/step - loss: 1.3431 - accuracy: 0.4391\n",
            "Epoch 23/40\n",
            "31/31 [==============================] - 1s 26ms/step - loss: 1.3314 - accuracy: 0.4400\n",
            "Epoch 24/40\n",
            "31/31 [==============================] - 1s 25ms/step - loss: 1.3278 - accuracy: 0.4385\n",
            "Epoch 25/40\n",
            "31/31 [==============================] - 1s 25ms/step - loss: 1.3026 - accuracy: 0.4571\n",
            "Epoch 26/40\n",
            "31/31 [==============================] - 1s 26ms/step - loss: 1.2676 - accuracy: 0.4839\n",
            "Epoch 27/40\n",
            "31/31 [==============================] - 1s 25ms/step - loss: 1.2948 - accuracy: 0.4620\n",
            "Epoch 28/40\n",
            "31/31 [==============================] - 1s 25ms/step - loss: 1.2978 - accuracy: 0.4673\n",
            "Epoch 29/40\n",
            "31/31 [==============================] - 1s 25ms/step - loss: 1.2386 - accuracy: 0.4878\n",
            "Epoch 30/40\n",
            "31/31 [==============================] - 1s 26ms/step - loss: 1.2386 - accuracy: 0.5018\n",
            "Epoch 31/40\n",
            "31/31 [==============================] - 1s 26ms/step - loss: 1.2368 - accuracy: 0.5036\n",
            "Epoch 32/40\n",
            "31/31 [==============================] - 1s 25ms/step - loss: 1.2138 - accuracy: 0.4977\n",
            "Epoch 33/40\n",
            "31/31 [==============================] - 1s 25ms/step - loss: 1.2297 - accuracy: 0.4865\n",
            "Epoch 34/40\n",
            "31/31 [==============================] - 1s 25ms/step - loss: 1.2151 - accuracy: 0.5158\n",
            "Epoch 35/40\n",
            "31/31 [==============================] - 1s 26ms/step - loss: 1.2069 - accuracy: 0.5167\n",
            "Epoch 36/40\n",
            "31/31 [==============================] - 1s 26ms/step - loss: 1.1913 - accuracy: 0.5096\n",
            "Epoch 37/40\n",
            "31/31 [==============================] - 1s 26ms/step - loss: 1.2336 - accuracy: 0.5053\n",
            "Epoch 38/40\n",
            "31/31 [==============================] - 1s 26ms/step - loss: 1.1482 - accuracy: 0.5407\n",
            "Epoch 39/40\n",
            "31/31 [==============================] - 1s 26ms/step - loss: 1.1667 - accuracy: 0.5532\n",
            "Epoch 40/40\n",
            "31/31 [==============================] - 1s 25ms/step - loss: 1.1254 - accuracy: 0.5539\n"
          ],
          "name": "stdout"
        }
      ]
    },
    {
      "cell_type": "code",
      "metadata": {
        "colab": {
          "base_uri": "https://localhost:8080/",
          "height": 295
        },
        "id": "qxJvHUPXoRpe",
        "outputId": "cbfa9c1f-2369-4f35-8e88-a49bbafb8b52"
      },
      "source": [
        "import matplotlib.pyplot as plt\n",
        "accuracy = history.history['accuracy']\n",
        "loss = history.history['loss']\n",
        "epochs = range(1,  len(loss) + 1)\n",
        "plt.plot(epochs, accuracy, 'bo' , label = 'Accuracy')\n",
        "plt.plot(epochs , loss, 'b',label = 'loss')\n",
        "plt.title(\"Training Loss and Accuracy\")\n",
        "plt.xlabel(\"Epochs\")\n",
        "plt.ylabel(\"loss\")\n",
        "plt.legend()\n",
        "plt.show()"
      ],
      "execution_count": null,
      "outputs": [
        {
          "output_type": "display_data",
          "data": {
            "image/png": "[encoded data removed]",
            "text/plain": [
              "<Figure size 432x288 with 1 Axes>"
            ]
          },
          "metadata": {
            "tags": [],
            "needs_background": "light"
          }
        }
      ]
    },
    {
      "cell_type": "code",
      "metadata": {
        "id": "R9LlzXW2CoGl",
        "colab": {
          "base_uri": "https://localhost:8080/"
        },
        "outputId": "33ae817b-1b78-4fd4-f0ec-01d7d0c0fe20"
      },
      "source": [
        "network.evaluate(x_test,test_labels,verbose =1)"
      ],
      "execution_count": null,
      "outputs": [
        {
          "output_type": "stream",
          "text": [
            "14/14 [==============================] - 0s 6ms/step - loss: 282.7077 - accuracy: 0.2217\n"
          ],
          "name": "stdout"
        },
        {
          "output_type": "execute_result",
          "data": {
            "text/plain": [
              "[282.7077331542969, 0.2217090129852295]"
            ]
          },
          "metadata": {
            "tags": []
          },
          "execution_count": 219
        }
      ]
    },
    {
      "cell_type": "code",
      "metadata": {
        "colab": {
          "base_uri": "https://localhost:8080/"
        },
        "id": "F8m_FUTmmRSq",
        "outputId": "2c4eefab-d1d7-4db7-922c-1ce6a9660073"
      },
      "source": [
        "network.predict([x_test])"
      ],
      "execution_count": null,
      "outputs": [
        {
          "output_type": "execute_result",
          "data": {
            "text/plain": [
              "array([[1.0000000e+00, 0.0000000e+00, 0.0000000e+00, 0.0000000e+00,\n",
              "        0.0000000e+00],\n",
              "       [1.0000000e+00, 0.0000000e+00, 0.0000000e+00, 0.0000000e+00,\n",
              "        0.0000000e+00],\n",
              "       [1.0000000e+00, 1.4816019e-22, 0.0000000e+00, 3.4374170e-26,\n",
              "        9.9473467e-23],\n",
              "       ...,\n",
              "       [0.0000000e+00, 0.0000000e+00, 0.0000000e+00, 1.0000000e+00,\n",
              "        0.0000000e+00],\n",
              "       [1.0000000e+00, 0.0000000e+00, 0.0000000e+00, 7.3139516e-16,\n",
              "        0.0000000e+00],\n",
              "       [1.0000000e+00, 0.0000000e+00, 0.0000000e+00, 2.6527540e-13,\n",
              "        0.0000000e+00]], dtype=float32)"
            ]
          },
          "metadata": {
            "tags": []
          },
          "execution_count": 220
        }
      ]
    }
  ]
}